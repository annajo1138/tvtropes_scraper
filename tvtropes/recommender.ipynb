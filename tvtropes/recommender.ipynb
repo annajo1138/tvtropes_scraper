{
 "cells": [
  {
   "cell_type": "code",
   "execution_count": 1,
   "metadata": {
    "collapsed": false
   },
   "outputs": [
    {
     "name": "stderr",
     "output_type": "stream",
     "text": [
      "2016-05-07 23:33:29,975 [WARNING] graphlab.product_key, 191: Unable to write current GraphLab Create license to /home/annajo/.graphlab/config. Ensure that this user account                         has write permission to /home/annajo/.graphlab/config to save the license for offline use.\n",
      "2016-05-07 23:33:31,037 [INFO] graphlab.cython.cy_server, 176: GraphLab Create v1.8.5 started. Logging: /tmp/graphlab_server_1462656808.log\n",
      "2016-05-07 23:33:31,176 [WARNING] graphlab.deploy._session, 116: Unable to create session in specified location: '/home/annajo/.graphlab/artifacts'. Using: '/var/tmp/graphlab-annajo/11726/tmp_session_f3191f79-8341-4b64-b472-4528f106f275'\n"
     ]
    },
    {
     "name": "stdout",
     "output_type": "stream",
     "text": [
      "This non-commercial license of GraphLab Create is assigned to ajohnson@hmc.edu and will expire on April 12, 2017. For commercial licensing options, visit https://dato.com/buy/.\n"
     ]
    }
   ],
   "source": [
    "import numpy as np\n",
    "import graphlab\n",
    "import scipy.io\n",
    "import pandas\n",
    "from scipy.sparse import dok_matrix"
   ]
  },
  {
   "cell_type": "code",
   "execution_count": 2,
   "metadata": {
    "collapsed": false
   },
   "outputs": [
    {
     "data": {
      "text/html": [
       "<pre>Finished parsing file /home/annajo/Documents/git/tvtropes_scraper/tvtropes/sframe_big.csv</pre>"
      ],
      "text/plain": [
       "Finished parsing file /home/annajo/Documents/git/tvtropes_scraper/tvtropes/sframe_big.csv"
      ]
     },
     "metadata": {},
     "output_type": "display_data"
    },
    {
     "data": {
      "text/html": [
       "<pre>Parsing completed. Parsed 100 lines in 1.99406 secs.</pre>"
      ],
      "text/plain": [
       "Parsing completed. Parsed 100 lines in 1.99406 secs."
      ]
     },
     "metadata": {},
     "output_type": "display_data"
    },
    {
     "data": {
      "text/html": [
       "<pre>Read 1207038 lines. Lines per second: 614764</pre>"
      ],
      "text/plain": [
       "Read 1207038 lines. Lines per second: 614764"
      ]
     },
     "metadata": {},
     "output_type": "display_data"
    },
    {
     "data": {
      "text/html": [
       "<pre>Read 7024128 lines. Lines per second: 976286</pre>"
      ],
      "text/plain": [
       "Read 7024128 lines. Lines per second: 976286"
      ]
     },
     "metadata": {},
     "output_type": "display_data"
    },
    {
     "data": {
      "text/html": [
       "<pre>Read 12958687 lines. Lines per second: 1.0331e+06</pre>"
      ],
      "text/plain": [
       "Read 12958687 lines. Lines per second: 1.0331e+06"
      ]
     },
     "metadata": {},
     "output_type": "display_data"
    },
    {
     "data": {
      "text/html": [
       "<pre>Read 18875531 lines. Lines per second: 1.03444e+06</pre>"
      ],
      "text/plain": [
       "Read 18875531 lines. Lines per second: 1.03444e+06"
      ]
     },
     "metadata": {},
     "output_type": "display_data"
    },
    {
     "data": {
      "text/html": [
       "<pre>Read 24985951 lines. Lines per second: 1.03385e+06</pre>"
      ],
      "text/plain": [
       "Read 24985951 lines. Lines per second: 1.03385e+06"
      ]
     },
     "metadata": {},
     "output_type": "display_data"
    },
    {
     "data": {
      "text/html": [
       "<pre>Read 31154896 lines. Lines per second: 1.0236e+06</pre>"
      ],
      "text/plain": [
       "Read 31154896 lines. Lines per second: 1.0236e+06"
      ]
     },
     "metadata": {},
     "output_type": "display_data"
    },
    {
     "data": {
      "text/html": [
       "<pre>Read 35891566 lines. Lines per second: 988357</pre>"
      ],
      "text/plain": [
       "Read 35891566 lines. Lines per second: 988357"
      ]
     },
     "metadata": {},
     "output_type": "display_data"
    },
    {
     "data": {
      "text/html": [
       "<pre>Read 40794056 lines. Lines per second: 980834</pre>"
      ],
      "text/plain": [
       "Read 40794056 lines. Lines per second: 980834"
      ]
     },
     "metadata": {},
     "output_type": "display_data"
    },
    {
     "data": {
      "text/html": [
       "<pre>Read 45620267 lines. Lines per second: 965276</pre>"
      ],
      "text/plain": [
       "Read 45620267 lines. Lines per second: 965276"
      ]
     },
     "metadata": {},
     "output_type": "display_data"
    },
    {
     "data": {
      "text/html": [
       "<pre>Read 49132508 lines. Lines per second: 939205</pre>"
      ],
      "text/plain": [
       "Read 49132508 lines. Lines per second: 939205"
      ]
     },
     "metadata": {},
     "output_type": "display_data"
    },
    {
     "data": {
      "text/html": [
       "<pre>Read 52793695 lines. Lines per second: 911557</pre>"
      ],
      "text/plain": [
       "Read 52793695 lines. Lines per second: 911557"
      ]
     },
     "metadata": {},
     "output_type": "display_data"
    },
    {
     "data": {
      "text/html": [
       "<pre>Read 57580033 lines. Lines per second: 909070</pre>"
      ],
      "text/plain": [
       "Read 57580033 lines. Lines per second: 909070"
      ]
     },
     "metadata": {},
     "output_type": "display_data"
    },
    {
     "data": {
      "text/html": [
       "<pre>Read 62448629 lines. Lines per second: 895418</pre>"
      ],
      "text/plain": [
       "Read 62448629 lines. Lines per second: 895418"
      ]
     },
     "metadata": {},
     "output_type": "display_data"
    },
    {
     "data": {
      "text/html": [
       "<pre>Read 67293443 lines. Lines per second: 897071</pre>"
      ],
      "text/plain": [
       "Read 67293443 lines. Lines per second: 897071"
      ]
     },
     "metadata": {},
     "output_type": "display_data"
    },
    {
     "data": {
      "text/html": [
       "<pre>Read 72048776 lines. Lines per second: 899726</pre>"
      ],
      "text/plain": [
       "Read 72048776 lines. Lines per second: 899726"
      ]
     },
     "metadata": {},
     "output_type": "display_data"
    },
    {
     "data": {
      "text/html": [
       "<pre>Read 76690501 lines. Lines per second: 900847</pre>"
      ],
      "text/plain": [
       "Read 76690501 lines. Lines per second: 900847"
      ]
     },
     "metadata": {},
     "output_type": "display_data"
    },
    {
     "data": {
      "text/html": [
       "<pre>Read 81397569 lines. Lines per second: 902305</pre>"
      ],
      "text/plain": [
       "Read 81397569 lines. Lines per second: 902305"
      ]
     },
     "metadata": {},
     "output_type": "display_data"
    },
    {
     "data": {
      "text/html": [
       "<pre>Read 86381135 lines. Lines per second: 907496</pre>"
      ],
      "text/plain": [
       "Read 86381135 lines. Lines per second: 907496"
      ]
     },
     "metadata": {},
     "output_type": "display_data"
    },
    {
     "data": {
      "text/html": [
       "<pre>Read 91217133 lines. Lines per second: 908720</pre>"
      ],
      "text/plain": [
       "Read 91217133 lines. Lines per second: 908720"
      ]
     },
     "metadata": {},
     "output_type": "display_data"
    },
    {
     "data": {
      "text/html": [
       "<pre>Read 97097486 lines. Lines per second: 910091</pre>"
      ],
      "text/plain": [
       "Read 97097486 lines. Lines per second: 910091"
      ]
     },
     "metadata": {},
     "output_type": "display_data"
    },
    {
     "data": {
      "text/html": [
       "<pre>Read 101684175 lines. Lines per second: 909133</pre>"
      ],
      "text/plain": [
       "Read 101684175 lines. Lines per second: 909133"
      ]
     },
     "metadata": {},
     "output_type": "display_data"
    },
    {
     "data": {
      "text/html": [
       "<pre>Read 106375225 lines. Lines per second: 907245</pre>"
      ],
      "text/plain": [
       "Read 106375225 lines. Lines per second: 907245"
      ]
     },
     "metadata": {},
     "output_type": "display_data"
    },
    {
     "data": {
      "text/html": [
       "<pre>Read 112224264 lines. Lines per second: 750069</pre>"
      ],
      "text/plain": [
       "Read 112224264 lines. Lines per second: 750069"
      ]
     },
     "metadata": {},
     "output_type": "display_data"
    },
    {
     "data": {
      "text/html": [
       "<pre>Read 113343255 lines. Lines per second: 717451</pre>"
      ],
      "text/plain": [
       "Read 113343255 lines. Lines per second: 717451"
      ]
     },
     "metadata": {},
     "output_type": "display_data"
    },
    {
     "data": {
      "text/html": [
       "<pre>Read 118182521 lines. Lines per second: 722930</pre>"
      ],
      "text/plain": [
       "Read 118182521 lines. Lines per second: 722930"
      ]
     },
     "metadata": {},
     "output_type": "display_data"
    },
    {
     "data": {
      "text/html": [
       "<pre>Read 122852752 lines. Lines per second: 729108</pre>"
      ],
      "text/plain": [
       "Read 122852752 lines. Lines per second: 729108"
      ]
     },
     "metadata": {},
     "output_type": "display_data"
    },
    {
     "data": {
      "text/html": [
       "<pre>Read 127627198 lines. Lines per second: 719377</pre>"
      ],
      "text/plain": [
       "Read 127627198 lines. Lines per second: 719377"
      ]
     },
     "metadata": {},
     "output_type": "display_data"
    },
    {
     "data": {
      "text/html": [
       "<pre>Read 132505183 lines. Lines per second: 725470</pre>"
      ],
      "text/plain": [
       "Read 132505183 lines. Lines per second: 725470"
      ]
     },
     "metadata": {},
     "output_type": "display_data"
    },
    {
     "data": {
      "text/html": [
       "<pre>Read 137380353 lines. Lines per second: 730755</pre>"
      ],
      "text/plain": [
       "Read 137380353 lines. Lines per second: 730755"
      ]
     },
     "metadata": {},
     "output_type": "display_data"
    },
    {
     "data": {
      "text/html": [
       "<pre>Read 142234858 lines. Lines per second: 734649</pre>"
      ],
      "text/plain": [
       "Read 142234858 lines. Lines per second: 734649"
      ]
     },
     "metadata": {},
     "output_type": "display_data"
    },
    {
     "data": {
      "text/html": [
       "<pre>Read 144589048 lines. Lines per second: 723207</pre>"
      ],
      "text/plain": [
       "Read 144589048 lines. Lines per second: 723207"
      ]
     },
     "metadata": {},
     "output_type": "display_data"
    },
    {
     "data": {
      "text/html": [
       "<pre>Read 149272854 lines. Lines per second: 725508</pre>"
      ],
      "text/plain": [
       "Read 149272854 lines. Lines per second: 725508"
      ]
     },
     "metadata": {},
     "output_type": "display_data"
    },
    {
     "data": {
      "text/html": [
       "<pre>Read 154082316 lines. Lines per second: 730212</pre>"
      ],
      "text/plain": [
       "Read 154082316 lines. Lines per second: 730212"
      ]
     },
     "metadata": {},
     "output_type": "display_data"
    },
    {
     "data": {
      "text/html": [
       "<pre>Read 158891897 lines. Lines per second: 732434</pre>"
      ],
      "text/plain": [
       "Read 158891897 lines. Lines per second: 732434"
      ]
     },
     "metadata": {},
     "output_type": "display_data"
    },
    {
     "data": {
      "text/html": [
       "<pre>Read 161322345 lines. Lines per second: 723766</pre>"
      ],
      "text/plain": [
       "Read 161322345 lines. Lines per second: 723766"
      ]
     },
     "metadata": {},
     "output_type": "display_data"
    },
    {
     "data": {
      "text/html": [
       "<pre>Read 166144764 lines. Lines per second: 729255</pre>"
      ],
      "text/plain": [
       "Read 166144764 lines. Lines per second: 729255"
      ]
     },
     "metadata": {},
     "output_type": "display_data"
    },
    {
     "data": {
      "text/html": [
       "<pre>Read 171017709 lines. Lines per second: 732646</pre>"
      ],
      "text/plain": [
       "Read 171017709 lines. Lines per second: 732646"
      ]
     },
     "metadata": {},
     "output_type": "display_data"
    },
    {
     "data": {
      "text/html": [
       "<pre>Read 174731017 lines. Lines per second: 721616</pre>"
      ],
      "text/plain": [
       "Read 174731017 lines. Lines per second: 721616"
      ]
     },
     "metadata": {},
     "output_type": "display_data"
    },
    {
     "data": {
      "text/html": [
       "<pre>Read 179620463 lines. Lines per second: 726298</pre>"
      ],
      "text/plain": [
       "Read 179620463 lines. Lines per second: 726298"
      ]
     },
     "metadata": {},
     "output_type": "display_data"
    },
    {
     "data": {
      "text/html": [
       "<pre>Read 184509999 lines. Lines per second: 729870</pre>"
      ],
      "text/plain": [
       "Read 184509999 lines. Lines per second: 729870"
      ]
     },
     "metadata": {},
     "output_type": "display_data"
    },
    {
     "data": {
      "text/html": [
       "<pre>Read 189198660 lines. Lines per second: 720232</pre>"
      ],
      "text/plain": [
       "Read 189198660 lines. Lines per second: 720232"
      ]
     },
     "metadata": {},
     "output_type": "display_data"
    },
    {
     "data": {
      "text/html": [
       "<pre>Read 193870861 lines. Lines per second: 723736</pre>"
      ],
      "text/plain": [
       "Read 193870861 lines. Lines per second: 723736"
      ]
     },
     "metadata": {},
     "output_type": "display_data"
    },
    {
     "data": {
      "text/html": [
       "<pre>Read 198614690 lines. Lines per second: 727353</pre>"
      ],
      "text/plain": [
       "Read 198614690 lines. Lines per second: 727353"
      ]
     },
     "metadata": {},
     "output_type": "display_data"
    },
    {
     "data": {
      "text/html": [
       "<pre>Read 203314070 lines. Lines per second: 721898</pre>"
      ],
      "text/plain": [
       "Read 203314070 lines. Lines per second: 721898"
      ]
     },
     "metadata": {},
     "output_type": "display_data"
    },
    {
     "data": {
      "text/html": [
       "<pre>Read 207014653 lines. Lines per second: 722102</pre>"
      ],
      "text/plain": [
       "Read 207014653 lines. Lines per second: 722102"
      ]
     },
     "metadata": {},
     "output_type": "display_data"
    },
    {
     "data": {
      "text/html": [
       "<pre>Read 212012704 lines. Lines per second: 724927</pre>"
      ],
      "text/plain": [
       "Read 212012704 lines. Lines per second: 724927"
      ]
     },
     "metadata": {},
     "output_type": "display_data"
    },
    {
     "data": {
      "text/html": [
       "<pre>Read 216746739 lines. Lines per second: 719233</pre>"
      ],
      "text/plain": [
       "Read 216746739 lines. Lines per second: 719233"
      ]
     },
     "metadata": {},
     "output_type": "display_data"
    },
    {
     "data": {
      "text/html": [
       "<pre>Read 221584944 lines. Lines per second: 723264</pre>"
      ],
      "text/plain": [
       "Read 221584944 lines. Lines per second: 723264"
      ]
     },
     "metadata": {},
     "output_type": "display_data"
    },
    {
     "data": {
      "text/html": [
       "<pre>Read 227345503 lines. Lines per second: 727543</pre>"
      ],
      "text/plain": [
       "Read 227345503 lines. Lines per second: 727543"
      ]
     },
     "metadata": {},
     "output_type": "display_data"
    },
    {
     "data": {
      "text/html": [
       "<pre>Read 230808835 lines. Lines per second: 721412</pre>"
      ],
      "text/plain": [
       "Read 230808835 lines. Lines per second: 721412"
      ]
     },
     "metadata": {},
     "output_type": "display_data"
    },
    {
     "data": {
      "text/html": [
       "<pre>Read 235340631 lines. Lines per second: 723891</pre>"
      ],
      "text/plain": [
       "Read 235340631 lines. Lines per second: 723891"
      ]
     },
     "metadata": {},
     "output_type": "display_data"
    },
    {
     "data": {
      "text/html": [
       "<pre>Read 239929993 lines. Lines per second: 726382</pre>"
      ],
      "text/plain": [
       "Read 239929993 lines. Lines per second: 726382"
      ]
     },
     "metadata": {},
     "output_type": "display_data"
    },
    {
     "data": {
      "text/html": [
       "<pre>Read 244789193 lines. Lines per second: 726998</pre>"
      ],
      "text/plain": [
       "Read 244789193 lines. Lines per second: 726998"
      ]
     },
     "metadata": {},
     "output_type": "display_data"
    },
    {
     "data": {
      "text/html": [
       "<pre>Read 248296139 lines. Lines per second: 718160</pre>"
      ],
      "text/plain": [
       "Read 248296139 lines. Lines per second: 718160"
      ]
     },
     "metadata": {},
     "output_type": "display_data"
    },
    {
     "data": {
      "text/html": [
       "<pre>Read 254202059 lines. Lines per second: 722604</pre>"
      ],
      "text/plain": [
       "Read 254202059 lines. Lines per second: 722604"
      ]
     },
     "metadata": {},
     "output_type": "display_data"
    },
    {
     "data": {
      "text/html": [
       "<pre>Read 258905104 lines. Lines per second: 725322</pre>"
      ],
      "text/plain": [
       "Read 258905104 lines. Lines per second: 725322"
      ]
     },
     "metadata": {},
     "output_type": "display_data"
    },
    {
     "data": {
      "text/html": [
       "<pre>Read 262412397 lines. Lines per second: 719808</pre>"
      ],
      "text/plain": [
       "Read 262412397 lines. Lines per second: 719808"
      ]
     },
     "metadata": {},
     "output_type": "display_data"
    },
    {
     "data": {
      "text/html": [
       "<pre>Read 268214347 lines. Lines per second: 723406</pre>"
      ],
      "text/plain": [
       "Read 268214347 lines. Lines per second: 723406"
      ]
     },
     "metadata": {},
     "output_type": "display_data"
    },
    {
     "data": {
      "text/html": [
       "<pre>Read 273043080 lines. Lines per second: 725559</pre>"
      ],
      "text/plain": [
       "Read 273043080 lines. Lines per second: 725559"
      ]
     },
     "metadata": {},
     "output_type": "display_data"
    },
    {
     "data": {
      "text/html": [
       "<pre>Read 276642147 lines. Lines per second: 724817</pre>"
      ],
      "text/plain": [
       "Read 276642147 lines. Lines per second: 724817"
      ]
     },
     "metadata": {},
     "output_type": "display_data"
    },
    {
     "data": {
      "text/html": [
       "<pre>Read 278999359 lines. Lines per second: 720199</pre>"
      ],
      "text/plain": [
       "Read 278999359 lines. Lines per second: 720199"
      ]
     },
     "metadata": {},
     "output_type": "display_data"
    },
    {
     "data": {
      "text/html": [
       "<pre>Read 283975492 lines. Lines per second: 723530</pre>"
      ],
      "text/plain": [
       "Read 283975492 lines. Lines per second: 723530"
      ]
     },
     "metadata": {},
     "output_type": "display_data"
    },
    {
     "data": {
      "text/html": [
       "<pre>Read 290149148 lines. Lines per second: 726680</pre>"
      ],
      "text/plain": [
       "Read 290149148 lines. Lines per second: 726680"
      ]
     },
     "metadata": {},
     "output_type": "display_data"
    },
    {
     "data": {
      "text/html": [
       "<pre>Read 292498669 lines. Lines per second: 721075</pre>"
      ],
      "text/plain": [
       "Read 292498669 lines. Lines per second: 721075"
      ]
     },
     "metadata": {},
     "output_type": "display_data"
    },
    {
     "data": {
      "text/html": [
       "<pre>Read 297192309 lines. Lines per second: 723636</pre>"
      ],
      "text/plain": [
       "Read 297192309 lines. Lines per second: 723636"
      ]
     },
     "metadata": {},
     "output_type": "display_data"
    },
    {
     "data": {
      "text/html": [
       "<pre>Read 302139214 lines. Lines per second: 726472</pre>"
      ],
      "text/plain": [
       "Read 302139214 lines. Lines per second: 726472"
      ]
     },
     "metadata": {},
     "output_type": "display_data"
    },
    {
     "data": {
      "text/html": [
       "<pre>Read 305673735 lines. Lines per second: 719536</pre>"
      ],
      "text/plain": [
       "Read 305673735 lines. Lines per second: 719536"
      ]
     },
     "metadata": {},
     "output_type": "display_data"
    },
    {
     "data": {
      "text/html": [
       "<pre>Read 310623052 lines. Lines per second: 722036</pre>"
      ],
      "text/plain": [
       "Read 310623052 lines. Lines per second: 722036"
      ]
     },
     "metadata": {},
     "output_type": "display_data"
    },
    {
     "data": {
      "text/html": [
       "<pre>Read 315422442 lines. Lines per second: 721820</pre>"
      ],
      "text/plain": [
       "Read 315422442 lines. Lines per second: 721820"
      ]
     },
     "metadata": {},
     "output_type": "display_data"
    },
    {
     "data": {
      "text/html": [
       "<pre>Read 318821536 lines. Lines per second: 720181</pre>"
      ],
      "text/plain": [
       "Read 318821536 lines. Lines per second: 720181"
      ]
     },
     "metadata": {},
     "output_type": "display_data"
    },
    {
     "data": {
      "text/html": [
       "<pre>Read 319915372 lines. Lines per second: 712954</pre>"
      ],
      "text/plain": [
       "Read 319915372 lines. Lines per second: 712954"
      ]
     },
     "metadata": {},
     "output_type": "display_data"
    },
    {
     "data": {
      "text/html": [
       "<pre>Read 324639914 lines. Lines per second: 715475</pre>"
      ],
      "text/plain": [
       "Read 324639914 lines. Lines per second: 715475"
      ]
     },
     "metadata": {},
     "output_type": "display_data"
    },
    {
     "data": {
      "text/html": [
       "<pre>Read 329368881 lines. Lines per second: 716727</pre>"
      ],
      "text/plain": [
       "Read 329368881 lines. Lines per second: 716727"
      ]
     },
     "metadata": {},
     "output_type": "display_data"
    },
    {
     "data": {
      "text/html": [
       "<pre>Read 334251468 lines. Lines per second: 712227</pre>"
      ],
      "text/plain": [
       "Read 334251468 lines. Lines per second: 712227"
      ]
     },
     "metadata": {},
     "output_type": "display_data"
    },
    {
     "data": {
      "text/html": [
       "<pre>Read 338840758 lines. Lines per second: 713768</pre>"
      ],
      "text/plain": [
       "Read 338840758 lines. Lines per second: 713768"
      ]
     },
     "metadata": {},
     "output_type": "display_data"
    },
    {
     "data": {
      "text/html": [
       "<pre>Read 343844055 lines. Lines per second: 715673</pre>"
      ],
      "text/plain": [
       "Read 343844055 lines. Lines per second: 715673"
      ]
     },
     "metadata": {},
     "output_type": "display_data"
    },
    {
     "data": {
      "text/html": [
       "<pre>Read 348495882 lines. Lines per second: 716933</pre>"
      ],
      "text/plain": [
       "Read 348495882 lines. Lines per second: 716933"
      ]
     },
     "metadata": {},
     "output_type": "display_data"
    },
    {
     "data": {
      "text/html": [
       "<pre>Read 349628361 lines. Lines per second: 711699</pre>"
      ],
      "text/plain": [
       "Read 349628361 lines. Lines per second: 711699"
      ]
     },
     "metadata": {},
     "output_type": "display_data"
    },
    {
     "data": {
      "text/html": [
       "<pre>Read 354499541 lines. Lines per second: 713739</pre>"
      ],
      "text/plain": [
       "Read 354499541 lines. Lines per second: 713739"
      ]
     },
     "metadata": {},
     "output_type": "display_data"
    },
    {
     "data": {
      "text/html": [
       "<pre>Read 359247820 lines. Lines per second: 715715</pre>"
      ],
      "text/plain": [
       "Read 359247820 lines. Lines per second: 715715"
      ]
     },
     "metadata": {},
     "output_type": "display_data"
    },
    {
     "data": {
      "text/html": [
       "<pre>Read 363868310 lines. Lines per second: 711854</pre>"
      ],
      "text/plain": [
       "Read 363868310 lines. Lines per second: 711854"
      ]
     },
     "metadata": {},
     "output_type": "display_data"
    },
    {
     "data": {
      "text/html": [
       "<pre>Read 369791439 lines. Lines per second: 715277</pre>"
      ],
      "text/plain": [
       "Read 369791439 lines. Lines per second: 715277"
      ]
     },
     "metadata": {},
     "output_type": "display_data"
    },
    {
     "data": {
      "text/html": [
       "<pre>Read 374474797 lines. Lines per second: 716115</pre>"
      ],
      "text/plain": [
       "Read 374474797 lines. Lines per second: 716115"
      ]
     },
     "metadata": {},
     "output_type": "display_data"
    },
    {
     "data": {
      "text/html": [
       "<pre>Read 379415544 lines. Lines per second: 712029</pre>"
      ],
      "text/plain": [
       "Read 379415544 lines. Lines per second: 712029"
      ]
     },
     "metadata": {},
     "output_type": "display_data"
    },
    {
     "data": {
      "text/html": [
       "<pre>Read 383997698 lines. Lines per second: 713832</pre>"
      ],
      "text/plain": [
       "Read 383997698 lines. Lines per second: 713832"
      ]
     },
     "metadata": {},
     "output_type": "display_data"
    },
    {
     "data": {
      "text/html": [
       "<pre>Read 388656941 lines. Lines per second: 715071</pre>"
      ],
      "text/plain": [
       "Read 388656941 lines. Lines per second: 715071"
      ]
     },
     "metadata": {},
     "output_type": "display_data"
    },
    {
     "data": {
      "text/html": [
       "<pre>Read 393362086 lines. Lines per second: 716408</pre>"
      ],
      "text/plain": [
       "Read 393362086 lines. Lines per second: 716408"
      ]
     },
     "metadata": {},
     "output_type": "display_data"
    },
    {
     "data": {
      "text/html": [
       "<pre>Read 396700986 lines. Lines per second: 712378</pre>"
      ],
      "text/plain": [
       "Read 396700986 lines. Lines per second: 712378"
      ]
     },
     "metadata": {},
     "output_type": "display_data"
    },
    {
     "data": {
      "text/html": [
       "<pre>Read 401529509 lines. Lines per second: 713726</pre>"
      ],
      "text/plain": [
       "Read 401529509 lines. Lines per second: 713726"
      ]
     },
     "metadata": {},
     "output_type": "display_data"
    },
    {
     "data": {
      "text/html": [
       "<pre>Read 406282635 lines. Lines per second: 715546</pre>"
      ],
      "text/plain": [
       "Read 406282635 lines. Lines per second: 715546"
      ]
     },
     "metadata": {},
     "output_type": "display_data"
    },
    {
     "data": {
      "text/html": [
       "<pre>Read 410905682 lines. Lines per second: 712263</pre>"
      ],
      "text/plain": [
       "Read 410905682 lines. Lines per second: 712263"
      ]
     },
     "metadata": {},
     "output_type": "display_data"
    },
    {
     "data": {
      "text/html": [
       "<pre>Read 415584326 lines. Lines per second: 713998</pre>"
      ],
      "text/plain": [
       "Read 415584326 lines. Lines per second: 713998"
      ]
     },
     "metadata": {},
     "output_type": "display_data"
    },
    {
     "data": {
      "text/html": [
       "<pre>Read 420305505 lines. Lines per second: 715488</pre>"
      ],
      "text/plain": [
       "Read 420305505 lines. Lines per second: 715488"
      ]
     },
     "metadata": {},
     "output_type": "display_data"
    },
    {
     "data": {
      "text/html": [
       "<pre>Read 425090640 lines. Lines per second: 715874</pre>"
      ],
      "text/plain": [
       "Read 425090640 lines. Lines per second: 715874"
      ]
     },
     "metadata": {},
     "output_type": "display_data"
    },
    {
     "data": {
      "text/html": [
       "<pre>Read 427551506 lines. Lines per second: 712516</pre>"
      ],
      "text/plain": [
       "Read 427551506 lines. Lines per second: 712516"
      ]
     },
     "metadata": {},
     "output_type": "display_data"
    },
    {
     "data": {
      "text/html": [
       "<pre>Read 431204717 lines. Lines per second: 711895</pre>"
      ],
      "text/plain": [
       "Read 431204717 lines. Lines per second: 711895"
      ]
     },
     "metadata": {},
     "output_type": "display_data"
    },
    {
     "data": {
      "text/html": [
       "<pre>Read 436035774 lines. Lines per second: 713574</pre>"
      ],
      "text/plain": [
       "Read 436035774 lines. Lines per second: 713574"
      ]
     },
     "metadata": {},
     "output_type": "display_data"
    },
    {
     "data": {
      "text/html": [
       "<pre>Read 439746875 lines. Lines per second: 712547</pre>"
      ],
      "text/plain": [
       "Read 439746875 lines. Lines per second: 712547"
      ]
     },
     "metadata": {},
     "output_type": "display_data"
    },
    {
     "data": {
      "text/html": [
       "<pre>Read 442100792 lines. Lines per second: 708319</pre>"
      ],
      "text/plain": [
       "Read 442100792 lines. Lines per second: 708319"
      ]
     },
     "metadata": {},
     "output_type": "display_data"
    },
    {
     "data": {
      "text/html": [
       "<pre>Read 445680264 lines. Lines per second: 705398</pre>"
      ],
      "text/plain": [
       "Read 445680264 lines. Lines per second: 705398"
      ]
     },
     "metadata": {},
     "output_type": "display_data"
    },
    {
     "data": {
      "text/html": [
       "<pre>Read 446899428 lines. Lines per second: 701171</pre>"
      ],
      "text/plain": [
       "Read 446899428 lines. Lines per second: 701171"
      ]
     },
     "metadata": {},
     "output_type": "display_data"
    },
    {
     "data": {
      "text/html": [
       "<pre>Read 448143754 lines. Lines per second: 697669</pre>"
      ],
      "text/plain": [
       "Read 448143754 lines. Lines per second: 697669"
      ]
     },
     "metadata": {},
     "output_type": "display_data"
    },
    {
     "data": {
      "text/html": [
       "<pre>Read 449215421 lines. Lines per second: 692605</pre>"
      ],
      "text/plain": [
       "Read 449215421 lines. Lines per second: 692605"
      ]
     },
     "metadata": {},
     "output_type": "display_data"
    },
    {
     "data": {
      "text/html": [
       "<pre>Read 450294879 lines. Lines per second: 687059</pre>"
      ],
      "text/plain": [
       "Read 450294879 lines. Lines per second: 687059"
      ]
     },
     "metadata": {},
     "output_type": "display_data"
    },
    {
     "data": {
      "text/html": [
       "<pre>Read 451390192 lines. Lines per second: 683480</pre>"
      ],
      "text/plain": [
       "Read 451390192 lines. Lines per second: 683480"
      ]
     },
     "metadata": {},
     "output_type": "display_data"
    },
    {
     "data": {
      "text/html": [
       "<pre>Read 452589440 lines. Lines per second: 679448</pre>"
      ],
      "text/plain": [
       "Read 452589440 lines. Lines per second: 679448"
      ]
     },
     "metadata": {},
     "output_type": "display_data"
    },
    {
     "data": {
      "text/html": [
       "<pre>Read 454999150 lines. Lines per second: 674071</pre>"
      ],
      "text/plain": [
       "Read 454999150 lines. Lines per second: 674071"
      ]
     },
     "metadata": {},
     "output_type": "display_data"
    },
    {
     "data": {
      "text/html": [
       "<pre>Read 457382550 lines. Lines per second: 668983</pre>"
      ],
      "text/plain": [
       "Read 457382550 lines. Lines per second: 668983"
      ]
     },
     "metadata": {},
     "output_type": "display_data"
    },
    {
     "data": {
      "text/html": [
       "<pre>Read 458555757 lines. Lines per second: 663736</pre>"
      ],
      "text/plain": [
       "Read 458555757 lines. Lines per second: 663736"
      ]
     },
     "metadata": {},
     "output_type": "display_data"
    },
    {
     "data": {
      "text/html": [
       "<pre>Read 460815718 lines. Lines per second: 659137</pre>"
      ],
      "text/plain": [
       "Read 460815718 lines. Lines per second: 659137"
      ]
     },
     "metadata": {},
     "output_type": "display_data"
    },
    {
     "data": {
      "text/html": [
       "<pre>Read 462040521 lines. Lines per second: 655465</pre>"
      ],
      "text/plain": [
       "Read 462040521 lines. Lines per second: 655465"
      ]
     },
     "metadata": {},
     "output_type": "display_data"
    },
    {
     "data": {
      "text/html": [
       "<pre>Read 464397315 lines. Lines per second: 650845</pre>"
      ],
      "text/plain": [
       "Read 464397315 lines. Lines per second: 650845"
      ]
     },
     "metadata": {},
     "output_type": "display_data"
    },
    {
     "data": {
      "text/html": [
       "<pre>Read 465652943 lines. Lines per second: 645785</pre>"
      ],
      "text/plain": [
       "Read 465652943 lines. Lines per second: 645785"
      ]
     },
     "metadata": {},
     "output_type": "display_data"
    },
    {
     "data": {
      "text/html": [
       "<pre>Read 466968954 lines. Lines per second: 642391</pre>"
      ],
      "text/plain": [
       "Read 466968954 lines. Lines per second: 642391"
      ]
     },
     "metadata": {},
     "output_type": "display_data"
    },
    {
     "data": {
      "text/html": [
       "<pre>Read 468163641 lines. Lines per second: 639648</pre>"
      ],
      "text/plain": [
       "Read 468163641 lines. Lines per second: 639648"
      ]
     },
     "metadata": {},
     "output_type": "display_data"
    },
    {
     "data": {
      "text/html": [
       "<pre>Read 470469455 lines. Lines per second: 635242</pre>"
      ],
      "text/plain": [
       "Read 470469455 lines. Lines per second: 635242"
      ]
     },
     "metadata": {},
     "output_type": "display_data"
    },
    {
     "data": {
      "text/html": [
       "<pre>Read 472928693 lines. Lines per second: 631028</pre>"
      ],
      "text/plain": [
       "Read 472928693 lines. Lines per second: 631028"
      ]
     },
     "metadata": {},
     "output_type": "display_data"
    },
    {
     "data": {
      "text/html": [
       "<pre>Read 474118773 lines. Lines per second: 627572</pre>"
      ],
      "text/plain": [
       "Read 474118773 lines. Lines per second: 627572"
      ]
     },
     "metadata": {},
     "output_type": "display_data"
    },
    {
     "data": {
      "text/html": [
       "<pre>Read 476393377 lines. Lines per second: 623889</pre>"
      ],
      "text/plain": [
       "Read 476393377 lines. Lines per second: 623889"
      ]
     },
     "metadata": {},
     "output_type": "display_data"
    },
    {
     "data": {
      "text/html": [
       "<pre>Read 477597562 lines. Lines per second: 621301</pre>"
      ],
      "text/plain": [
       "Read 477597562 lines. Lines per second: 621301"
      ]
     },
     "metadata": {},
     "output_type": "display_data"
    },
    {
     "data": {
      "text/html": [
       "<pre>Read 479888073 lines. Lines per second: 616193</pre>"
      ],
      "text/plain": [
       "Read 479888073 lines. Lines per second: 616193"
      ]
     },
     "metadata": {},
     "output_type": "display_data"
    },
    {
     "data": {
      "text/html": [
       "<pre>Read 482241100 lines. Lines per second: 611422</pre>"
      ],
      "text/plain": [
       "Read 482241100 lines. Lines per second: 611422"
      ]
     },
     "metadata": {},
     "output_type": "display_data"
    },
    {
     "data": {
      "text/html": [
       "<pre>Read 484568810 lines. Lines per second: 608027</pre>"
      ],
      "text/plain": [
       "Read 484568810 lines. Lines per second: 608027"
      ]
     },
     "metadata": {},
     "output_type": "display_data"
    },
    {
     "data": {
      "text/html": [
       "<pre>Read 485825385 lines. Lines per second: 605520</pre>"
      ],
      "text/plain": [
       "Read 485825385 lines. Lines per second: 605520"
      ]
     },
     "metadata": {},
     "output_type": "display_data"
    },
    {
     "data": {
      "text/html": [
       "<pre>Read 488084439 lines. Lines per second: 601252</pre>"
      ],
      "text/plain": [
       "Read 488084439 lines. Lines per second: 601252"
      ]
     },
     "metadata": {},
     "output_type": "display_data"
    },
    {
     "data": {
      "text/html": [
       "<pre>Read 489213974 lines. Lines per second: 597678</pre>"
      ],
      "text/plain": [
       "Read 489213974 lines. Lines per second: 597678"
      ]
     },
     "metadata": {},
     "output_type": "display_data"
    },
    {
     "data": {
      "text/html": [
       "<pre>Read 490426216 lines. Lines per second: 593185</pre>"
      ],
      "text/plain": [
       "Read 490426216 lines. Lines per second: 593185"
      ]
     },
     "metadata": {},
     "output_type": "display_data"
    },
    {
     "data": {
      "text/html": [
       "<pre>Read 492956402 lines. Lines per second: 589582</pre>"
      ],
      "text/plain": [
       "Read 492956402 lines. Lines per second: 589582"
      ]
     },
     "metadata": {},
     "output_type": "display_data"
    },
    {
     "data": {
      "text/html": [
       "<pre>Read 494023416 lines. Lines per second: 586736</pre>"
      ],
      "text/plain": [
       "Read 494023416 lines. Lines per second: 586736"
      ]
     },
     "metadata": {},
     "output_type": "display_data"
    },
    {
     "data": {
      "text/html": [
       "<pre>Read 495275418 lines. Lines per second: 583693</pre>"
      ],
      "text/plain": [
       "Read 495275418 lines. Lines per second: 583693"
      ]
     },
     "metadata": {},
     "output_type": "display_data"
    },
    {
     "data": {
      "text/html": [
       "<pre>Read 496398802 lines. Lines per second: 580418</pre>"
      ],
      "text/plain": [
       "Read 496398802 lines. Lines per second: 580418"
      ]
     },
     "metadata": {},
     "output_type": "display_data"
    },
    {
     "data": {
      "text/html": [
       "<pre>Read 498474297 lines. Lines per second: 577266</pre>"
      ],
      "text/plain": [
       "Read 498474297 lines. Lines per second: 577266"
      ]
     },
     "metadata": {},
     "output_type": "display_data"
    },
    {
     "data": {
      "text/html": [
       "<pre>Read 500832791 lines. Lines per second: 574083</pre>"
      ],
      "text/plain": [
       "Read 500832791 lines. Lines per second: 574083"
      ]
     },
     "metadata": {},
     "output_type": "display_data"
    },
    {
     "data": {
      "text/html": [
       "<pre>Read 503243903 lines. Lines per second: 570580</pre>"
      ],
      "text/plain": [
       "Read 503243903 lines. Lines per second: 570580"
      ]
     },
     "metadata": {},
     "output_type": "display_data"
    },
    {
     "data": {
      "text/html": [
       "<pre>Read 504419263 lines. Lines per second: 567614</pre>"
      ],
      "text/plain": [
       "Read 504419263 lines. Lines per second: 567614"
      ]
     },
     "metadata": {},
     "output_type": "display_data"
    },
    {
     "data": {
      "text/html": [
       "<pre>Read 505676595 lines. Lines per second: 563466</pre>"
      ],
      "text/plain": [
       "Read 505676595 lines. Lines per second: 563466"
      ]
     },
     "metadata": {},
     "output_type": "display_data"
    },
    {
     "data": {
      "text/html": [
       "<pre>Read 508082042 lines. Lines per second: 560613</pre>"
      ],
      "text/plain": [
       "Read 508082042 lines. Lines per second: 560613"
      ]
     },
     "metadata": {},
     "output_type": "display_data"
    },
    {
     "data": {
      "text/html": [
       "<pre>Read 510588195 lines. Lines per second: 557036</pre>"
      ],
      "text/plain": [
       "Read 510588195 lines. Lines per second: 557036"
      ]
     },
     "metadata": {},
     "output_type": "display_data"
    },
    {
     "data": {
      "text/html": [
       "<pre>Read 512913284 lines. Lines per second: 552685</pre>"
      ],
      "text/plain": [
       "Read 512913284 lines. Lines per second: 552685"
      ]
     },
     "metadata": {},
     "output_type": "display_data"
    },
    {
     "data": {
      "text/html": [
       "<pre>Read 515405952 lines. Lines per second: 549249</pre>"
      ],
      "text/plain": [
       "Read 515405952 lines. Lines per second: 549249"
      ]
     },
     "metadata": {},
     "output_type": "display_data"
    },
    {
     "data": {
      "text/html": [
       "<pre>Read 516633511 lines. Lines per second: 547171</pre>"
      ],
      "text/plain": [
       "Read 516633511 lines. Lines per second: 547171"
      ]
     },
     "metadata": {},
     "output_type": "display_data"
    },
    {
     "data": {
      "text/html": [
       "<pre>Read 518997674 lines. Lines per second: 545068</pre>"
      ],
      "text/plain": [
       "Read 518997674 lines. Lines per second: 545068"
      ]
     },
     "metadata": {},
     "output_type": "display_data"
    },
    {
     "data": {
      "text/html": [
       "<pre>Read 520180528 lines. Lines per second: 541743</pre>"
      ],
      "text/plain": [
       "Read 520180528 lines. Lines per second: 541743"
      ]
     },
     "metadata": {},
     "output_type": "display_data"
    },
    {
     "data": {
      "text/html": [
       "<pre>Read 522630173 lines. Lines per second: 538642</pre>"
      ],
      "text/plain": [
       "Read 522630173 lines. Lines per second: 538642"
      ]
     },
     "metadata": {},
     "output_type": "display_data"
    },
    {
     "data": {
      "text/html": [
       "<pre>Read 523819258 lines. Lines per second: 536268</pre>"
      ],
      "text/plain": [
       "Read 523819258 lines. Lines per second: 536268"
      ]
     },
     "metadata": {},
     "output_type": "display_data"
    },
    {
     "data": {
      "text/html": [
       "<pre>Read 525043795 lines. Lines per second: 533851</pre>"
      ],
      "text/plain": [
       "Read 525043795 lines. Lines per second: 533851"
      ]
     },
     "metadata": {},
     "output_type": "display_data"
    },
    {
     "data": {
      "text/html": [
       "<pre>Read 526195846 lines. Lines per second: 531466</pre>"
      ],
      "text/plain": [
       "Read 526195846 lines. Lines per second: 531466"
      ]
     },
     "metadata": {},
     "output_type": "display_data"
    },
    {
     "data": {
      "text/html": [
       "<pre>Read 528478820 lines. Lines per second: 528870</pre>"
      ],
      "text/plain": [
       "Read 528478820 lines. Lines per second: 528870"
      ]
     },
     "metadata": {},
     "output_type": "display_data"
    },
    {
     "data": {
      "text/html": [
       "<pre>Read 530775424 lines. Lines per second: 526059</pre>"
      ],
      "text/plain": [
       "Read 530775424 lines. Lines per second: 526059"
      ]
     },
     "metadata": {},
     "output_type": "display_data"
    },
    {
     "data": {
      "text/html": [
       "<pre>Read 533026426 lines. Lines per second: 522501</pre>"
      ],
      "text/plain": [
       "Read 533026426 lines. Lines per second: 522501"
      ]
     },
     "metadata": {},
     "output_type": "display_data"
    },
    {
     "data": {
      "text/html": [
       "<pre>Read 535284107 lines. Lines per second: 519698</pre>"
      ],
      "text/plain": [
       "Read 535284107 lines. Lines per second: 519698"
      ]
     },
     "metadata": {},
     "output_type": "display_data"
    },
    {
     "data": {
      "text/html": [
       "<pre>Read 537591669 lines. Lines per second: 516895</pre>"
      ],
      "text/plain": [
       "Read 537591669 lines. Lines per second: 516895"
      ]
     },
     "metadata": {},
     "output_type": "display_data"
    },
    {
     "data": {
      "text/html": [
       "<pre>Read 538772572 lines. Lines per second: 515220</pre>"
      ],
      "text/plain": [
       "Read 538772572 lines. Lines per second: 515220"
      ]
     },
     "metadata": {},
     "output_type": "display_data"
    },
    {
     "data": {
      "text/html": [
       "<pre>Read 539983006 lines. Lines per second: 513059</pre>"
      ],
      "text/plain": [
       "Read 539983006 lines. Lines per second: 513059"
      ]
     },
     "metadata": {},
     "output_type": "display_data"
    },
    {
     "data": {
      "text/html": [
       "<pre>Read 542425869 lines. Lines per second: 510713</pre>"
      ],
      "text/plain": [
       "Read 542425869 lines. Lines per second: 510713"
      ]
     },
     "metadata": {},
     "output_type": "display_data"
    },
    {
     "data": {
      "text/html": [
       "<pre>Read 544849370 lines. Lines per second: 508519</pre>"
      ],
      "text/plain": [
       "Read 544849370 lines. Lines per second: 508519"
      ]
     },
     "metadata": {},
     "output_type": "display_data"
    },
    {
     "data": {
      "text/html": [
       "<pre>Read 547281177 lines. Lines per second: 506429</pre>"
      ],
      "text/plain": [
       "Read 547281177 lines. Lines per second: 506429"
      ]
     },
     "metadata": {},
     "output_type": "display_data"
    },
    {
     "data": {
      "text/html": [
       "<pre>Read 548511604 lines. Lines per second: 504343</pre>"
      ],
      "text/plain": [
       "Read 548511604 lines. Lines per second: 504343"
      ]
     },
     "metadata": {},
     "output_type": "display_data"
    },
    {
     "data": {
      "text/html": [
       "<pre>Read 550857035 lines. Lines per second: 502681</pre>"
      ],
      "text/plain": [
       "Read 550857035 lines. Lines per second: 502681"
      ]
     },
     "metadata": {},
     "output_type": "display_data"
    },
    {
     "data": {
      "text/html": [
       "<pre>Read 553383714 lines. Lines per second: 501149</pre>"
      ],
      "text/plain": [
       "Read 553383714 lines. Lines per second: 501149"
      ]
     },
     "metadata": {},
     "output_type": "display_data"
    },
    {
     "data": {
      "text/html": [
       "<pre>Read 555777071 lines. Lines per second: 499467</pre>"
      ],
      "text/plain": [
       "Read 555777071 lines. Lines per second: 499467"
      ]
     },
     "metadata": {},
     "output_type": "display_data"
    },
    {
     "data": {
      "text/html": [
       "<pre>Read 556954344 lines. Lines per second: 497186</pre>"
      ],
      "text/plain": [
       "Read 556954344 lines. Lines per second: 497186"
      ]
     },
     "metadata": {},
     "output_type": "display_data"
    },
    {
     "data": {
      "text/html": [
       "<pre>Read 558149976 lines. Lines per second: 495815</pre>"
      ],
      "text/plain": [
       "Read 558149976 lines. Lines per second: 495815"
      ]
     },
     "metadata": {},
     "output_type": "display_data"
    },
    {
     "data": {
      "text/html": [
       "<pre>Read 560584095 lines. Lines per second: 494439</pre>"
      ],
      "text/plain": [
       "Read 560584095 lines. Lines per second: 494439"
      ]
     },
     "metadata": {},
     "output_type": "display_data"
    },
    {
     "data": {
      "text/html": [
       "<pre>Read 563045985 lines. Lines per second: 492380</pre>"
      ],
      "text/plain": [
       "Read 563045985 lines. Lines per second: 492380"
      ]
     },
     "metadata": {},
     "output_type": "display_data"
    },
    {
     "data": {
      "text/html": [
       "<pre>Read 564224437 lines. Lines per second: 490983</pre>"
      ],
      "text/plain": [
       "Read 564224437 lines. Lines per second: 490983"
      ]
     },
     "metadata": {},
     "output_type": "display_data"
    },
    {
     "data": {
      "text/html": [
       "<pre>Read 566583757 lines. Lines per second: 489478</pre>"
      ],
      "text/plain": [
       "Read 566583757 lines. Lines per second: 489478"
      ]
     },
     "metadata": {},
     "output_type": "display_data"
    },
    {
     "data": {
      "text/html": [
       "<pre>Read 568862358 lines. Lines per second: 487632</pre>"
      ],
      "text/plain": [
       "Read 568862358 lines. Lines per second: 487632"
      ]
     },
     "metadata": {},
     "output_type": "display_data"
    },
    {
     "data": {
      "text/html": [
       "<pre>Read 570103493 lines. Lines per second: 486552</pre>"
      ],
      "text/plain": [
       "Read 570103493 lines. Lines per second: 486552"
      ]
     },
     "metadata": {},
     "output_type": "display_data"
    },
    {
     "data": {
      "text/html": [
       "<pre>Read 571304259 lines. Lines per second: 485054</pre>"
      ],
      "text/plain": [
       "Read 571304259 lines. Lines per second: 485054"
      ]
     },
     "metadata": {},
     "output_type": "display_data"
    },
    {
     "data": {
      "text/html": [
       "<pre>Read 573675142 lines. Lines per second: 483629</pre>"
      ],
      "text/plain": [
       "Read 573675142 lines. Lines per second: 483629"
      ]
     },
     "metadata": {},
     "output_type": "display_data"
    },
    {
     "data": {
      "text/html": [
       "<pre>Read 576055878 lines. Lines per second: 482141</pre>"
      ],
      "text/plain": [
       "Read 576055878 lines. Lines per second: 482141"
      ]
     },
     "metadata": {},
     "output_type": "display_data"
    },
    {
     "data": {
      "text/html": [
       "<pre>Read 578601106 lines. Lines per second: 480545</pre>"
      ],
      "text/plain": [
       "Read 578601106 lines. Lines per second: 480545"
      ]
     },
     "metadata": {},
     "output_type": "display_data"
    },
    {
     "data": {
      "text/html": [
       "<pre>Read 579836902 lines. Lines per second: 479515</pre>"
      ],
      "text/plain": [
       "Read 579836902 lines. Lines per second: 479515"
      ]
     },
     "metadata": {},
     "output_type": "display_data"
    },
    {
     "data": {
      "text/html": [
       "<pre>Read 580996961 lines. Lines per second: 477471</pre>"
      ],
      "text/plain": [
       "Read 580996961 lines. Lines per second: 477471"
      ]
     },
     "metadata": {},
     "output_type": "display_data"
    },
    {
     "data": {
      "text/html": [
       "<pre>Read 583171568 lines. Lines per second: 475888</pre>"
      ],
      "text/plain": [
       "Read 583171568 lines. Lines per second: 475888"
      ]
     },
     "metadata": {},
     "output_type": "display_data"
    },
    {
     "data": {
      "text/html": [
       "<pre>Read 585630347 lines. Lines per second: 474364</pre>"
      ],
      "text/plain": [
       "Read 585630347 lines. Lines per second: 474364"
      ]
     },
     "metadata": {},
     "output_type": "display_data"
    },
    {
     "data": {
      "text/html": [
       "<pre>Read 587990160 lines. Lines per second: 472819</pre>"
      ],
      "text/plain": [
       "Read 587990160 lines. Lines per second: 472819"
      ]
     },
     "metadata": {},
     "output_type": "display_data"
    },
    {
     "data": {
      "text/html": [
       "<pre>Read 590384183 lines. Lines per second: 470430</pre>"
      ],
      "text/plain": [
       "Read 590384183 lines. Lines per second: 470430"
      ]
     },
     "metadata": {},
     "output_type": "display_data"
    },
    {
     "data": {
      "text/html": [
       "<pre>Read 592680547 lines. Lines per second: 469467</pre>"
      ],
      "text/plain": [
       "Read 592680547 lines. Lines per second: 469467"
      ]
     },
     "metadata": {},
     "output_type": "display_data"
    },
    {
     "data": {
      "text/html": [
       "<pre>Read 595018412 lines. Lines per second: 468392</pre>"
      ],
      "text/plain": [
       "Read 595018412 lines. Lines per second: 468392"
      ]
     },
     "metadata": {},
     "output_type": "display_data"
    },
    {
     "data": {
      "text/html": [
       "<pre>Read 597444357 lines. Lines per second: 466118</pre>"
      ],
      "text/plain": [
       "Read 597444357 lines. Lines per second: 466118"
      ]
     },
     "metadata": {},
     "output_type": "display_data"
    },
    {
     "data": {
      "text/html": [
       "<pre>Read 599871270 lines. Lines per second: 464701</pre>"
      ],
      "text/plain": [
       "Read 599871270 lines. Lines per second: 464701"
      ]
     },
     "metadata": {},
     "output_type": "display_data"
    },
    {
     "data": {
      "text/html": [
       "<pre>Read 602276135 lines. Lines per second: 463824</pre>"
      ],
      "text/plain": [
       "Read 602276135 lines. Lines per second: 463824"
      ]
     },
     "metadata": {},
     "output_type": "display_data"
    },
    {
     "data": {
      "text/html": [
       "<pre>Read 605788066 lines. Lines per second: 464689</pre>"
      ],
      "text/plain": [
       "Read 605788066 lines. Lines per second: 464689"
      ]
     },
     "metadata": {},
     "output_type": "display_data"
    },
    {
     "data": {
      "text/html": [
       "<pre>Read 610574634 lines. Lines per second: 466102</pre>"
      ],
      "text/plain": [
       "Read 610574634 lines. Lines per second: 466102"
      ]
     },
     "metadata": {},
     "output_type": "display_data"
    },
    {
     "data": {
      "text/html": [
       "<pre>Read 612870433 lines. Lines per second: 465192</pre>"
      ],
      "text/plain": [
       "Read 612870433 lines. Lines per second: 465192"
      ]
     },
     "metadata": {},
     "output_type": "display_data"
    },
    {
     "data": {
      "text/html": [
       "<pre>Read 617696324 lines. Lines per second: 466990</pre>"
      ],
      "text/plain": [
       "Read 617696324 lines. Lines per second: 466990"
      ]
     },
     "metadata": {},
     "output_type": "display_data"
    },
    {
     "data": {
      "text/html": [
       "<pre>Read 623524290 lines. Lines per second: 469291</pre>"
      ],
      "text/plain": [
       "Read 623524290 lines. Lines per second: 469291"
      ]
     },
     "metadata": {},
     "output_type": "display_data"
    },
    {
     "data": {
      "text/html": [
       "<pre>Read 627190524 lines. Lines per second: 470255</pre>"
      ],
      "text/plain": [
       "Read 627190524 lines. Lines per second: 470255"
      ]
     },
     "metadata": {},
     "output_type": "display_data"
    },
    {
     "data": {
      "text/html": [
       "<pre>Read 629611936 lines. Lines per second: 469546</pre>"
      ],
      "text/plain": [
       "Read 629611936 lines. Lines per second: 469546"
      ]
     },
     "metadata": {},
     "output_type": "display_data"
    },
    {
     "data": {
      "text/html": [
       "<pre>Read 634131100 lines. Lines per second: 471190</pre>"
      ],
      "text/plain": [
       "Read 634131100 lines. Lines per second: 471190"
      ]
     },
     "metadata": {},
     "output_type": "display_data"
    },
    {
     "data": {
      "text/html": [
       "<pre>Read 637797064 lines. Lines per second: 472146</pre>"
      ],
      "text/plain": [
       "Read 637797064 lines. Lines per second: 472146"
      ]
     },
     "metadata": {},
     "output_type": "display_data"
    },
    {
     "data": {
      "text/html": [
       "<pre>Read 642820559 lines. Lines per second: 473848</pre>"
      ],
      "text/plain": [
       "Read 642820559 lines. Lines per second: 473848"
      ]
     },
     "metadata": {},
     "output_type": "display_data"
    },
    {
     "data": {
      "text/html": [
       "<pre>Read 646243495 lines. Lines per second: 473823</pre>"
      ],
      "text/plain": [
       "Read 646243495 lines. Lines per second: 473823"
      ]
     },
     "metadata": {},
     "output_type": "display_data"
    },
    {
     "data": {
      "text/html": [
       "<pre>Read 652187033 lines. Lines per second: 476048</pre>"
      ],
      "text/plain": [
       "Read 652187033 lines. Lines per second: 476048"
      ]
     },
     "metadata": {},
     "output_type": "display_data"
    },
    {
     "data": {
      "text/html": [
       "<pre>Read 657061026 lines. Lines per second: 477538</pre>"
      ],
      "text/plain": [
       "Read 657061026 lines. Lines per second: 477538"
      ]
     },
     "metadata": {},
     "output_type": "display_data"
    },
    {
     "data": {
      "text/html": [
       "<pre>Read 659405323 lines. Lines per second: 477186</pre>"
      ],
      "text/plain": [
       "Read 659405323 lines. Lines per second: 477186"
      ]
     },
     "metadata": {},
     "output_type": "display_data"
    },
    {
     "data": {
      "text/html": [
       "<pre>Read 665308624 lines. Lines per second: 479380</pre>"
      ],
      "text/plain": [
       "Read 665308624 lines. Lines per second: 479380"
      ]
     },
     "metadata": {},
     "output_type": "display_data"
    },
    {
     "data": {
      "text/html": [
       "<pre>Read 670005135 lines. Lines per second: 480915</pre>"
      ],
      "text/plain": [
       "Read 670005135 lines. Lines per second: 480915"
      ]
     },
     "metadata": {},
     "output_type": "display_data"
    },
    {
     "data": {
      "text/html": [
       "<pre>Read 672386190 lines. Lines per second: 480490</pre>"
      ],
      "text/plain": [
       "Read 672386190 lines. Lines per second: 480490"
      ]
     },
     "metadata": {},
     "output_type": "display_data"
    },
    {
     "data": {
      "text/html": [
       "<pre>Read 675814041 lines. Lines per second: 480854</pre>"
      ],
      "text/plain": [
       "Read 675814041 lines. Lines per second: 480854"
      ]
     },
     "metadata": {},
     "output_type": "display_data"
    },
    {
     "data": {
      "text/html": [
       "<pre>Read 680754942 lines. Lines per second: 482611</pre>"
      ],
      "text/plain": [
       "Read 680754942 lines. Lines per second: 482611"
      ]
     },
     "metadata": {},
     "output_type": "display_data"
    },
    {
     "data": {
      "text/html": [
       "<pre>Read 685552353 lines. Lines per second: 483872</pre>"
      ],
      "text/plain": [
       "Read 685552353 lines. Lines per second: 483872"
      ]
     },
     "metadata": {},
     "output_type": "display_data"
    },
    {
     "data": {
      "text/html": [
       "<pre>Read 687875736 lines. Lines per second: 483643</pre>"
      ],
      "text/plain": [
       "Read 687875736 lines. Lines per second: 483643"
      ]
     },
     "metadata": {},
     "output_type": "display_data"
    },
    {
     "data": {
      "text/html": [
       "<pre>Read 693943991 lines. Lines per second: 485963</pre>"
      ],
      "text/plain": [
       "Read 693943991 lines. Lines per second: 485963"
      ]
     },
     "metadata": {},
     "output_type": "display_data"
    },
    {
     "data": {
      "text/html": [
       "<pre>Read 698548738 lines. Lines per second: 487299</pre>"
      ],
      "text/plain": [
       "Read 698548738 lines. Lines per second: 487299"
      ]
     },
     "metadata": {},
     "output_type": "display_data"
    },
    {
     "data": {
      "text/html": [
       "<pre>Read 700603610 lines. Lines per second: 486895</pre>"
      ],
      "text/plain": [
       "Read 700603610 lines. Lines per second: 486895"
      ]
     },
     "metadata": {},
     "output_type": "display_data"
    },
    {
     "data": {
      "text/html": [
       "<pre>Read 706629449 lines. Lines per second: 489019</pre>"
      ],
      "text/plain": [
       "Read 706629449 lines. Lines per second: 489019"
      ]
     },
     "metadata": {},
     "output_type": "display_data"
    },
    {
     "data": {
      "text/html": [
       "<pre>Read 712589108 lines. Lines per second: 490850</pre>"
      ],
      "text/plain": [
       "Read 712589108 lines. Lines per second: 490850"
      ]
     },
     "metadata": {},
     "output_type": "display_data"
    },
    {
     "data": {
      "text/html": [
       "<pre>Read 713899864 lines. Lines per second: 490011</pre>"
      ],
      "text/plain": [
       "Read 713899864 lines. Lines per second: 490011"
      ]
     },
     "metadata": {},
     "output_type": "display_data"
    },
    {
     "data": {
      "text/html": [
       "<pre>Read 719866046 lines. Lines per second: 492088</pre>"
      ],
      "text/plain": [
       "Read 719866046 lines. Lines per second: 492088"
      ]
     },
     "metadata": {},
     "output_type": "display_data"
    },
    {
     "data": {
      "text/html": [
       "<pre>Read 724543181 lines. Lines per second: 493493</pre>"
      ],
      "text/plain": [
       "Read 724543181 lines. Lines per second: 493493"
      ]
     },
     "metadata": {},
     "output_type": "display_data"
    },
    {
     "data": {
      "text/html": [
       "<pre>Read 729218795 lines. Lines per second: 493619</pre>"
      ],
      "text/plain": [
       "Read 729218795 lines. Lines per second: 493619"
      ]
     },
     "metadata": {},
     "output_type": "display_data"
    },
    {
     "data": {
      "text/html": [
       "<pre>Read 733991805 lines. Lines per second: 495089</pre>"
      ],
      "text/plain": [
       "Read 733991805 lines. Lines per second: 495089"
      ]
     },
     "metadata": {},
     "output_type": "display_data"
    },
    {
     "data": {
      "text/html": [
       "<pre>Read 739612388 lines. Lines per second: 496948</pre>"
      ],
      "text/plain": [
       "Read 739612388 lines. Lines per second: 496948"
      ]
     },
     "metadata": {},
     "output_type": "display_data"
    },
    {
     "data": {
      "text/html": [
       "<pre>Read 743004067 lines. Lines per second: 496691</pre>"
      ],
      "text/plain": [
       "Read 743004067 lines. Lines per second: 496691"
      ]
     },
     "metadata": {},
     "output_type": "display_data"
    },
    {
     "data": {
      "text/html": [
       "<pre>Read 749114066 lines. Lines per second: 498864</pre>"
      ],
      "text/plain": [
       "Read 749114066 lines. Lines per second: 498864"
      ]
     },
     "metadata": {},
     "output_type": "display_data"
    },
    {
     "data": {
      "text/html": [
       "<pre>Read 754808576 lines. Lines per second: 500736</pre>"
      ],
      "text/plain": [
       "Read 754808576 lines. Lines per second: 500736"
      ]
     },
     "metadata": {},
     "output_type": "display_data"
    },
    {
     "data": {
      "text/html": [
       "<pre>Read 758309473 lines. Lines per second: 500728</pre>"
      ],
      "text/plain": [
       "Read 758309473 lines. Lines per second: 500728"
      ]
     },
     "metadata": {},
     "output_type": "display_data"
    },
    {
     "data": {
      "text/html": [
       "<pre>Read 764328000 lines. Lines per second: 502844</pre>"
      ],
      "text/plain": [
       "Read 764328000 lines. Lines per second: 502844"
      ]
     },
     "metadata": {},
     "output_type": "display_data"
    },
    {
     "data": {
      "text/html": [
       "<pre>Read 769978662 lines. Lines per second: 504510</pre>"
      ],
      "text/plain": [
       "Read 769978662 lines. Lines per second: 504510"
      ]
     },
     "metadata": {},
     "output_type": "display_data"
    },
    {
     "data": {
      "text/html": [
       "<pre>Read 772457177 lines. Lines per second: 503740</pre>"
      ],
      "text/plain": [
       "Read 772457177 lines. Lines per second: 503740"
      ]
     },
     "metadata": {},
     "output_type": "display_data"
    },
    {
     "data": {
      "text/html": [
       "<pre>Read 777275120 lines. Lines per second: 505184</pre>"
      ],
      "text/plain": [
       "Read 777275120 lines. Lines per second: 505184"
      ]
     },
     "metadata": {},
     "output_type": "display_data"
    },
    {
     "data": {
      "text/html": [
       "<pre>Read 781916175 lines. Lines per second: 506504</pre>"
      ],
      "text/plain": [
       "Read 781916175 lines. Lines per second: 506504"
      ]
     },
     "metadata": {},
     "output_type": "display_data"
    },
    {
     "data": {
      "text/html": [
       "<pre>Read 786580539 lines. Lines per second: 507564</pre>"
      ],
      "text/plain": [
       "Read 786580539 lines. Lines per second: 507564"
      ]
     },
     "metadata": {},
     "output_type": "display_data"
    },
    {
     "data": {
      "text/html": [
       "<pre>Read 788808484 lines. Lines per second: 507064</pre>"
      ],
      "text/plain": [
       "Read 788808484 lines. Lines per second: 507064"
      ]
     },
     "metadata": {},
     "output_type": "display_data"
    },
    {
     "data": {
      "text/html": [
       "<pre>Read 794718361 lines. Lines per second: 509231</pre>"
      ],
      "text/plain": [
       "Read 794718361 lines. Lines per second: 509231"
      ]
     },
     "metadata": {},
     "output_type": "display_data"
    },
    {
     "data": {
      "text/html": [
       "<pre>Read 800507728 lines. Lines per second: 510996</pre>"
      ],
      "text/plain": [
       "Read 800507728 lines. Lines per second: 510996"
      ]
     },
     "metadata": {},
     "output_type": "display_data"
    },
    {
     "data": {
      "text/html": [
       "<pre>Read 802840385 lines. Lines per second: 510353</pre>"
      ],
      "text/plain": [
       "Read 802840385 lines. Lines per second: 510353"
      ]
     },
     "metadata": {},
     "output_type": "display_data"
    },
    {
     "data": {
      "text/html": [
       "<pre>Read 808568737 lines. Lines per second: 512190</pre>"
      ],
      "text/plain": [
       "Read 808568737 lines. Lines per second: 512190"
      ]
     },
     "metadata": {},
     "output_type": "display_data"
    },
    {
     "data": {
      "text/html": [
       "<pre>Read 814556111 lines. Lines per second: 514104</pre>"
      ],
      "text/plain": [
       "Read 814556111 lines. Lines per second: 514104"
      ]
     },
     "metadata": {},
     "output_type": "display_data"
    },
    {
     "data": {
      "text/html": [
       "<pre>Read 818095252 lines. Lines per second: 513599</pre>"
      ],
      "text/plain": [
       "Read 818095252 lines. Lines per second: 513599"
      ]
     },
     "metadata": {},
     "output_type": "display_data"
    },
    {
     "data": {
      "text/html": [
       "<pre>Read 822718860 lines. Lines per second: 514908</pre>"
      ],
      "text/plain": [
       "Read 822718860 lines. Lines per second: 514908"
      ]
     },
     "metadata": {},
     "output_type": "display_data"
    },
    {
     "data": {
      "text/html": [
       "<pre>Read 828708613 lines. Lines per second: 516913</pre>"
      ],
      "text/plain": [
       "Read 828708613 lines. Lines per second: 516913"
      ]
     },
     "metadata": {},
     "output_type": "display_data"
    },
    {
     "data": {
      "text/html": [
       "<pre>Read 833259358 lines. Lines per second: 516975</pre>"
      ],
      "text/plain": [
       "Read 833259358 lines. Lines per second: 516975"
      ]
     },
     "metadata": {},
     "output_type": "display_data"
    },
    {
     "data": {
      "text/html": [
       "<pre>Read 838703038 lines. Lines per second: 518636</pre>"
      ],
      "text/plain": [
       "Read 838703038 lines. Lines per second: 518636"
      ]
     },
     "metadata": {},
     "output_type": "display_data"
    },
    {
     "data": {
      "text/html": [
       "<pre>Read 841656615 lines. Lines per second: 518675</pre>"
      ],
      "text/plain": [
       "Read 841656615 lines. Lines per second: 518675"
      ]
     },
     "metadata": {},
     "output_type": "display_data"
    },
    {
     "data": {
      "text/html": [
       "<pre>Read 846172983 lines. Lines per second: 519794</pre>"
      ],
      "text/plain": [
       "Read 846172983 lines. Lines per second: 519794"
      ]
     },
     "metadata": {},
     "output_type": "display_data"
    },
    {
     "data": {
      "text/html": [
       "<pre>Read 849923560 lines. Lines per second: 519663</pre>"
      ],
      "text/plain": [
       "Read 849923560 lines. Lines per second: 519663"
      ]
     },
     "metadata": {},
     "output_type": "display_data"
    },
    {
     "data": {
      "text/html": [
       "<pre>Read 855896637 lines. Lines per second: 521511</pre>"
      ],
      "text/plain": [
       "Read 855896637 lines. Lines per second: 521511"
      ]
     },
     "metadata": {},
     "output_type": "display_data"
    },
    {
     "data": {
      "text/html": [
       "<pre>Read 861736388 lines. Lines per second: 523130</pre>"
      ],
      "text/plain": [
       "Read 861736388 lines. Lines per second: 523130"
      ]
     },
     "metadata": {},
     "output_type": "display_data"
    },
    {
     "data": {
      "text/html": [
       "<pre>Read 865350542 lines. Lines per second: 522432</pre>"
      ],
      "text/plain": [
       "Read 865350542 lines. Lines per second: 522432"
      ]
     },
     "metadata": {},
     "output_type": "display_data"
    },
    {
     "data": {
      "text/html": [
       "<pre>Read 870227573 lines. Lines per second: 523627</pre>"
      ],
      "text/plain": [
       "Read 870227573 lines. Lines per second: 523627"
      ]
     },
     "metadata": {},
     "output_type": "display_data"
    },
    {
     "data": {
      "text/html": [
       "<pre>Read 876047236 lines. Lines per second: 525220</pre>"
      ],
      "text/plain": [
       "Read 876047236 lines. Lines per second: 525220"
      ]
     },
     "metadata": {},
     "output_type": "display_data"
    },
    {
     "data": {
      "text/html": [
       "<pre>Read 879586756 lines. Lines per second: 525012</pre>"
      ],
      "text/plain": [
       "Read 879586756 lines. Lines per second: 525012"
      ]
     },
     "metadata": {},
     "output_type": "display_data"
    },
    {
     "data": {
      "text/html": [
       "<pre>Read 885818108 lines. Lines per second: 526918</pre>"
      ],
      "text/plain": [
       "Read 885818108 lines. Lines per second: 526918"
      ]
     },
     "metadata": {},
     "output_type": "display_data"
    },
    {
     "data": {
      "text/html": [
       "<pre>Read 891991090 lines. Lines per second: 528466</pre>"
      ],
      "text/plain": [
       "Read 891991090 lines. Lines per second: 528466"
      ]
     },
     "metadata": {},
     "output_type": "display_data"
    },
    {
     "data": {
      "text/html": [
       "<pre>Read 894409339 lines. Lines per second: 528071</pre>"
      ],
      "text/plain": [
       "Read 894409339 lines. Lines per second: 528071"
      ]
     },
     "metadata": {},
     "output_type": "display_data"
    },
    {
     "data": {
      "text/html": [
       "<pre>Read 900596954 lines. Lines per second: 529903</pre>"
      ],
      "text/plain": [
       "Read 900596954 lines. Lines per second: 529903"
      ]
     },
     "metadata": {},
     "output_type": "display_data"
    },
    {
     "data": {
      "text/html": [
       "<pre>Read 906365722 lines. Lines per second: 531273</pre>"
      ],
      "text/plain": [
       "Read 906365722 lines. Lines per second: 531273"
      ]
     },
     "metadata": {},
     "output_type": "display_data"
    },
    {
     "data": {
      "text/html": [
       "<pre>Read 907461203 lines. Lines per second: 530335</pre>"
      ],
      "text/plain": [
       "Read 907461203 lines. Lines per second: 530335"
      ]
     },
     "metadata": {},
     "output_type": "display_data"
    },
    {
     "data": {
      "text/html": [
       "<pre>Read 913356251 lines. Lines per second: 532046</pre>"
      ],
      "text/plain": [
       "Read 913356251 lines. Lines per second: 532046"
      ]
     },
     "metadata": {},
     "output_type": "display_data"
    },
    {
     "data": {
      "text/html": [
       "<pre>Read 919115544 lines. Lines per second: 533352</pre>"
      ],
      "text/plain": [
       "Read 919115544 lines. Lines per second: 533352"
      ]
     },
     "metadata": {},
     "output_type": "display_data"
    },
    {
     "data": {
      "text/html": [
       "<pre>Read 921404469 lines. Lines per second: 532812</pre>"
      ],
      "text/plain": [
       "Read 921404469 lines. Lines per second: 532812"
      ]
     },
     "metadata": {},
     "output_type": "display_data"
    },
    {
     "data": {
      "text/html": [
       "<pre>Read 926196595 lines. Lines per second: 534033</pre>"
      ],
      "text/plain": [
       "Read 926196595 lines. Lines per second: 534033"
      ]
     },
     "metadata": {},
     "output_type": "display_data"
    },
    {
     "data": {
      "text/html": [
       "<pre>Read 932037391 lines. Lines per second: 535600</pre>"
      ],
      "text/plain": [
       "Read 932037391 lines. Lines per second: 535600"
      ]
     },
     "metadata": {},
     "output_type": "display_data"
    },
    {
     "data": {
      "text/html": [
       "<pre>Read 935522714 lines. Lines per second: 535401</pre>"
      ],
      "text/plain": [
       "Read 935522714 lines. Lines per second: 535401"
      ]
     },
     "metadata": {},
     "output_type": "display_data"
    },
    {
     "data": {
      "text/html": [
       "<pre>Read 941504613 lines. Lines per second: 537156</pre>"
      ],
      "text/plain": [
       "Read 941504613 lines. Lines per second: 537156"
      ]
     },
     "metadata": {},
     "output_type": "display_data"
    },
    {
     "data": {
      "text/html": [
       "<pre>Read 947592377 lines. Lines per second: 538669</pre>"
      ],
      "text/plain": [
       "Read 947592377 lines. Lines per second: 538669"
      ]
     },
     "metadata": {},
     "output_type": "display_data"
    },
    {
     "data": {
      "text/html": [
       "<pre>Read 951064687 lines. Lines per second: 538473</pre>"
      ],
      "text/plain": [
       "Read 951064687 lines. Lines per second: 538473"
      ]
     },
     "metadata": {},
     "output_type": "display_data"
    },
    {
     "data": {
      "text/html": [
       "<pre>Read 955804670 lines. Lines per second: 539543</pre>"
      ],
      "text/plain": [
       "Read 955804670 lines. Lines per second: 539543"
      ]
     },
     "metadata": {},
     "output_type": "display_data"
    },
    {
     "data": {
      "text/html": [
       "<pre>Read 961327376 lines. Lines per second: 541038</pre>"
      ],
      "text/plain": [
       "Read 961327376 lines. Lines per second: 541038"
      ]
     },
     "metadata": {},
     "output_type": "display_data"
    },
    {
     "data": {
      "text/html": [
       "<pre>Read 965019068 lines. Lines per second: 540991</pre>"
      ],
      "text/plain": [
       "Read 965019068 lines. Lines per second: 540991"
      ]
     },
     "metadata": {},
     "output_type": "display_data"
    },
    {
     "data": {
      "text/html": [
       "<pre>Read 970625702 lines. Lines per second: 542468</pre>"
      ],
      "text/plain": [
       "Read 970625702 lines. Lines per second: 542468"
      ]
     },
     "metadata": {},
     "output_type": "display_data"
    },
    {
     "data": {
      "text/html": [
       "<pre>Read 976391750 lines. Lines per second: 543845</pre>"
      ],
      "text/plain": [
       "Read 976391750 lines. Lines per second: 543845"
      ]
     },
     "metadata": {},
     "output_type": "display_data"
    },
    {
     "data": {
      "text/html": [
       "<pre>Read 979991758 lines. Lines per second: 543493</pre>"
      ],
      "text/plain": [
       "Read 979991758 lines. Lines per second: 543493"
      ]
     },
     "metadata": {},
     "output_type": "display_data"
    },
    {
     "data": {
      "text/html": [
       "<pre>Read 986179138 lines. Lines per second: 545197</pre>"
      ],
      "text/plain": [
       "Read 986179138 lines. Lines per second: 545197"
      ]
     },
     "metadata": {},
     "output_type": "display_data"
    },
    {
     "data": {
      "text/html": [
       "<pre>Read 992321048 lines. Lines per second: 546886</pre>"
      ],
      "text/plain": [
       "Read 992321048 lines. Lines per second: 546886"
      ]
     },
     "metadata": {},
     "output_type": "display_data"
    },
    {
     "data": {
      "text/html": [
       "<pre>Read 994875091 lines. Lines per second: 546682</pre>"
      ],
      "text/plain": [
       "Read 994875091 lines. Lines per second: 546682"
      ]
     },
     "metadata": {},
     "output_type": "display_data"
    },
    {
     "data": {
      "text/html": [
       "<pre>Read 1000651251 lines. Lines per second: 548135</pre>"
      ],
      "text/plain": [
       "Read 1000651251 lines. Lines per second: 548135"
      ]
     },
     "metadata": {},
     "output_type": "display_data"
    },
    {
     "data": {
      "text/html": [
       "<pre>Read 1006453008 lines. Lines per second: 549369</pre>"
      ],
      "text/plain": [
       "Read 1006453008 lines. Lines per second: 549369"
      ]
     },
     "metadata": {},
     "output_type": "display_data"
    },
    {
     "data": {
      "text/html": [
       "<pre>Read 1010177402 lines. Lines per second: 548937</pre>"
      ],
      "text/plain": [
       "Read 1010177402 lines. Lines per second: 548937"
      ]
     },
     "metadata": {},
     "output_type": "display_data"
    },
    {
     "data": {
      "text/html": [
       "<pre>Read 1015990832 lines. Lines per second: 550340</pre>"
      ],
      "text/plain": [
       "Read 1015990832 lines. Lines per second: 550340"
      ]
     },
     "metadata": {},
     "output_type": "display_data"
    },
    {
     "data": {
      "text/html": [
       "<pre>Read 1021920047 lines. Lines per second: 551888</pre>"
      ],
      "text/plain": [
       "Read 1021920047 lines. Lines per second: 551888"
      ]
     },
     "metadata": {},
     "output_type": "display_data"
    },
    {
     "data": {
      "text/html": [
       "<pre>Read 1025615954 lines. Lines per second: 549870</pre>"
      ],
      "text/plain": [
       "Read 1025615954 lines. Lines per second: 549870"
      ]
     },
     "metadata": {},
     "output_type": "display_data"
    },
    {
     "data": {
      "text/html": [
       "<pre>Read 1030350588 lines. Lines per second: 550658</pre>"
      ],
      "text/plain": [
       "Read 1030350588 lines. Lines per second: 550658"
      ]
     },
     "metadata": {},
     "output_type": "display_data"
    },
    {
     "data": {
      "text/html": [
       "<pre>Read 1036567792 lines. Lines per second: 552381</pre>"
      ],
      "text/plain": [
       "Read 1036567792 lines. Lines per second: 552381"
      ]
     },
     "metadata": {},
     "output_type": "display_data"
    },
    {
     "data": {
      "text/html": [
       "<pre>Read 1040179601 lines. Lines per second: 551800</pre>"
      ],
      "text/plain": [
       "Read 1040179601 lines. Lines per second: 551800"
      ]
     },
     "metadata": {},
     "output_type": "display_data"
    },
    {
     "data": {
      "text/html": [
       "<pre>Read 1046134487 lines. Lines per second: 553259</pre>"
      ],
      "text/plain": [
       "Read 1046134487 lines. Lines per second: 553259"
      ]
     },
     "metadata": {},
     "output_type": "display_data"
    },
    {
     "data": {
      "text/html": [
       "<pre>Read 1052537720 lines. Lines per second: 554781</pre>"
      ],
      "text/plain": [
       "Read 1052537720 lines. Lines per second: 554781"
      ]
     },
     "metadata": {},
     "output_type": "display_data"
    },
    {
     "data": {
      "text/html": [
       "<pre>Read 1053708885 lines. Lines per second: 553941</pre>"
      ],
      "text/plain": [
       "Read 1053708885 lines. Lines per second: 553941"
      ]
     },
     "metadata": {},
     "output_type": "display_data"
    },
    {
     "data": {
      "text/html": [
       "<pre>Read 1059361965 lines. Lines per second: 555434</pre>"
      ],
      "text/plain": [
       "Read 1059361965 lines. Lines per second: 555434"
      ]
     },
     "metadata": {},
     "output_type": "display_data"
    },
    {
     "data": {
      "text/html": [
       "<pre>Read 1065233708 lines. Lines per second: 556949</pre>"
      ],
      "text/plain": [
       "Read 1065233708 lines. Lines per second: 556949"
      ]
     },
     "metadata": {},
     "output_type": "display_data"
    },
    {
     "data": {
      "text/html": [
       "<pre>Read 1068869065 lines. Lines per second: 556571</pre>"
      ],
      "text/plain": [
       "Read 1068869065 lines. Lines per second: 556571"
      ]
     },
     "metadata": {},
     "output_type": "display_data"
    },
    {
     "data": {
      "text/html": [
       "<pre>Read 1074575922 lines. Lines per second: 558086</pre>"
      ],
      "text/plain": [
       "Read 1074575922 lines. Lines per second: 558086"
      ]
     },
     "metadata": {},
     "output_type": "display_data"
    },
    {
     "data": {
      "text/html": [
       "<pre>Read 1080174133 lines. Lines per second: 559472</pre>"
      ],
      "text/plain": [
       "Read 1080174133 lines. Lines per second: 559472"
      ]
     },
     "metadata": {},
     "output_type": "display_data"
    },
    {
     "data": {
      "text/html": [
       "<pre>Read 1084611580 lines. Lines per second: 560165</pre>"
      ],
      "text/plain": [
       "Read 1084611580 lines. Lines per second: 560165"
      ]
     },
     "metadata": {},
     "output_type": "display_data"
    },
    {
     "data": {
      "text/html": [
       "<pre>Read 1085805367 lines. Lines per second: 559221</pre>"
      ],
      "text/plain": [
       "Read 1085805367 lines. Lines per second: 559221"
      ]
     },
     "metadata": {},
     "output_type": "display_data"
    },
    {
     "data": {
      "text/html": [
       "<pre>Read 1091302267 lines. Lines per second: 560487</pre>"
      ],
      "text/plain": [
       "Read 1091302267 lines. Lines per second: 560487"
      ]
     },
     "metadata": {},
     "output_type": "display_data"
    },
    {
     "data": {
      "text/html": [
       "<pre>Read 1096993701 lines. Lines per second: 561805</pre>"
      ],
      "text/plain": [
       "Read 1096993701 lines. Lines per second: 561805"
      ]
     },
     "metadata": {},
     "output_type": "display_data"
    },
    {
     "data": {
      "text/html": [
       "<pre>Read 1099446203 lines. Lines per second: 561452</pre>"
      ],
      "text/plain": [
       "Read 1099446203 lines. Lines per second: 561452"
      ]
     },
     "metadata": {},
     "output_type": "display_data"
    },
    {
     "data": {
      "text/html": [
       "<pre>Read 1105629910 lines. Lines per second: 562964</pre>"
      ],
      "text/plain": [
       "Read 1105629910 lines. Lines per second: 562964"
      ]
     },
     "metadata": {},
     "output_type": "display_data"
    },
    {
     "data": {
      "text/html": [
       "<pre>Read 1111399839 lines. Lines per second: 564211</pre>"
      ],
      "text/plain": [
       "Read 1111399839 lines. Lines per second: 564211"
      ]
     },
     "metadata": {},
     "output_type": "display_data"
    },
    {
     "data": {
      "text/html": [
       "<pre>Read 1114750044 lines. Lines per second: 563688</pre>"
      ],
      "text/plain": [
       "Read 1114750044 lines. Lines per second: 563688"
      ]
     },
     "metadata": {},
     "output_type": "display_data"
    },
    {
     "data": {
      "text/html": [
       "<pre>Read 1120939048 lines. Lines per second: 565255</pre>"
      ],
      "text/plain": [
       "Read 1120939048 lines. Lines per second: 565255"
      ]
     },
     "metadata": {},
     "output_type": "display_data"
    },
    {
     "data": {
      "text/html": [
       "<pre>Read 1126972938 lines. Lines per second: 566591</pre>"
      ],
      "text/plain": [
       "Read 1126972938 lines. Lines per second: 566591"
      ]
     },
     "metadata": {},
     "output_type": "display_data"
    },
    {
     "data": {
      "text/html": [
       "<pre>Read 1130293401 lines. Lines per second: 566216</pre>"
      ],
      "text/plain": [
       "Read 1130293401 lines. Lines per second: 566216"
      ]
     },
     "metadata": {},
     "output_type": "display_data"
    },
    {
     "data": {
      "text/html": [
       "<pre>Read 1136044018 lines. Lines per second: 567599</pre>"
      ],
      "text/plain": [
       "Read 1136044018 lines. Lines per second: 567599"
      ]
     },
     "metadata": {},
     "output_type": "display_data"
    },
    {
     "data": {
      "text/html": [
       "<pre>Read 1141696105 lines. Lines per second: 568807</pre>"
      ],
      "text/plain": [
       "Read 1141696105 lines. Lines per second: 568807"
      ]
     },
     "metadata": {},
     "output_type": "display_data"
    },
    {
     "data": {
      "text/html": [
       "<pre>Read 1144145581 lines. Lines per second: 568031</pre>"
      ],
      "text/plain": [
       "Read 1144145581 lines. Lines per second: 568031"
      ]
     },
     "metadata": {},
     "output_type": "display_data"
    },
    {
     "data": {
      "text/html": [
       "<pre>Read 1150145445 lines. Lines per second: 569538</pre>"
      ],
      "text/plain": [
       "Read 1150145445 lines. Lines per second: 569538"
      ]
     },
     "metadata": {},
     "output_type": "display_data"
    },
    {
     "data": {
      "text/html": [
       "<pre>Read 1156208309 lines. Lines per second: 570777</pre>"
      ],
      "text/plain": [
       "Read 1156208309 lines. Lines per second: 570777"
      ]
     },
     "metadata": {},
     "output_type": "display_data"
    },
    {
     "data": {
      "text/html": [
       "<pre>Read 1157432717 lines. Lines per second: 569658</pre>"
      ],
      "text/plain": [
       "Read 1157432717 lines. Lines per second: 569658"
      ]
     },
     "metadata": {},
     "output_type": "display_data"
    },
    {
     "data": {
      "text/html": [
       "<pre>Read 1163751203 lines. Lines per second: 571201</pre>"
      ],
      "text/plain": [
       "Read 1163751203 lines. Lines per second: 571201"
      ]
     },
     "metadata": {},
     "output_type": "display_data"
    },
    {
     "data": {
      "text/html": [
       "<pre>Read 1169466322 lines. Lines per second: 572188</pre>"
      ],
      "text/plain": [
       "Read 1169466322 lines. Lines per second: 572188"
      ]
     },
     "metadata": {},
     "output_type": "display_data"
    },
    {
     "data": {
      "text/html": [
       "<pre>Read 1171750605 lines. Lines per second: 571582</pre>"
      ],
      "text/plain": [
       "Read 1171750605 lines. Lines per second: 571582"
      ]
     },
     "metadata": {},
     "output_type": "display_data"
    },
    {
     "data": {
      "text/html": [
       "<pre>Read 1177491121 lines. Lines per second: 572780</pre>"
      ],
      "text/plain": [
       "Read 1177491121 lines. Lines per second: 572780"
      ]
     },
     "metadata": {},
     "output_type": "display_data"
    },
    {
     "data": {
      "text/html": [
       "<pre>Read 1183170299 lines. Lines per second: 573846</pre>"
      ],
      "text/plain": [
       "Read 1183170299 lines. Lines per second: 573846"
      ]
     },
     "metadata": {},
     "output_type": "display_data"
    },
    {
     "data": {
      "text/html": [
       "<pre>Read 1186698264 lines. Lines per second: 573495</pre>"
      ],
      "text/plain": [
       "Read 1186698264 lines. Lines per second: 573495"
      ]
     },
     "metadata": {},
     "output_type": "display_data"
    },
    {
     "data": {
      "text/html": [
       "<pre>Read 1192707246 lines. Lines per second: 574891</pre>"
      ],
      "text/plain": [
       "Read 1192707246 lines. Lines per second: 574891"
      ]
     },
     "metadata": {},
     "output_type": "display_data"
    },
    {
     "data": {
      "text/html": [
       "<pre>Read 1198647906 lines. Lines per second: 576057</pre>"
      ],
      "text/plain": [
       "Read 1198647906 lines. Lines per second: 576057"
      ]
     },
     "metadata": {},
     "output_type": "display_data"
    },
    {
     "data": {
      "text/html": [
       "<pre>Read 1202300983 lines. Lines per second: 575726</pre>"
      ],
      "text/plain": [
       "Read 1202300983 lines. Lines per second: 575726"
      ]
     },
     "metadata": {},
     "output_type": "display_data"
    },
    {
     "data": {
      "text/html": [
       "<pre>Read 1208053897 lines. Lines per second: 576969</pre>"
      ],
      "text/plain": [
       "Read 1208053897 lines. Lines per second: 576969"
      ]
     },
     "metadata": {},
     "output_type": "display_data"
    },
    {
     "data": {
      "text/html": [
       "<pre>Read 1213694679 lines. Lines per second: 578068</pre>"
      ],
      "text/plain": [
       "Read 1213694679 lines. Lines per second: 578068"
      ]
     },
     "metadata": {},
     "output_type": "display_data"
    },
    {
     "data": {
      "text/html": [
       "<pre>Read 1217171831 lines. Lines per second: 577626</pre>"
      ],
      "text/plain": [
       "Read 1217171831 lines. Lines per second: 577626"
      ]
     },
     "metadata": {},
     "output_type": "display_data"
    },
    {
     "data": {
      "text/html": [
       "<pre>Read 1223132720 lines. Lines per second: 578997</pre>"
      ],
      "text/plain": [
       "Read 1223132720 lines. Lines per second: 578997"
      ]
     },
     "metadata": {},
     "output_type": "display_data"
    },
    {
     "data": {
      "text/html": [
       "<pre>Read 1228839087 lines. Lines per second: 580169</pre>"
      ],
      "text/plain": [
       "Read 1228839087 lines. Lines per second: 580169"
      ]
     },
     "metadata": {},
     "output_type": "display_data"
    },
    {
     "data": {
      "text/html": [
       "<pre>Read 1232026257 lines. Lines per second: 579505</pre>"
      ],
      "text/plain": [
       "Read 1232026257 lines. Lines per second: 579505"
      ]
     },
     "metadata": {},
     "output_type": "display_data"
    },
    {
     "data": {
      "text/html": [
       "<pre>Read 1237726080 lines. Lines per second: 580764</pre>"
      ],
      "text/plain": [
       "Read 1237726080 lines. Lines per second: 580764"
      ]
     },
     "metadata": {},
     "output_type": "display_data"
    },
    {
     "data": {
      "text/html": [
       "<pre>Read 1243457280 lines. Lines per second: 581823</pre>"
      ],
      "text/plain": [
       "Read 1243457280 lines. Lines per second: 581823"
      ]
     },
     "metadata": {},
     "output_type": "display_data"
    },
    {
     "data": {
      "text/html": [
       "<pre>Read 1247145391 lines. Lines per second: 581460</pre>"
      ],
      "text/plain": [
       "Read 1247145391 lines. Lines per second: 581460"
      ]
     },
     "metadata": {},
     "output_type": "display_data"
    },
    {
     "data": {
      "text/html": [
       "<pre>Read 1252764929 lines. Lines per second: 582507</pre>"
      ],
      "text/plain": [
       "Read 1252764929 lines. Lines per second: 582507"
      ]
     },
     "metadata": {},
     "output_type": "display_data"
    },
    {
     "data": {
      "text/html": [
       "<pre>Read 1258371392 lines. Lines per second: 583654</pre>"
      ],
      "text/plain": [
       "Read 1258371392 lines. Lines per second: 583654"
      ]
     },
     "metadata": {},
     "output_type": "display_data"
    },
    {
     "data": {
      "text/html": [
       "<pre>Read 1261998036 lines. Lines per second: 583231</pre>"
      ],
      "text/plain": [
       "Read 1261998036 lines. Lines per second: 583231"
      ]
     },
     "metadata": {},
     "output_type": "display_data"
    },
    {
     "data": {
      "text/html": [
       "<pre>Read 1267707422 lines. Lines per second: 584231</pre>"
      ],
      "text/plain": [
       "Read 1267707422 lines. Lines per second: 584231"
      ]
     },
     "metadata": {},
     "output_type": "display_data"
    },
    {
     "data": {
      "text/html": [
       "<pre>Read 1273608286 lines. Lines per second: 585170</pre>"
      ],
      "text/plain": [
       "Read 1273608286 lines. Lines per second: 585170"
      ]
     },
     "metadata": {},
     "output_type": "display_data"
    },
    {
     "data": {
      "text/html": [
       "<pre>Read 1275922062 lines. Lines per second: 584625</pre>"
      ],
      "text/plain": [
       "Read 1275922062 lines. Lines per second: 584625"
      ]
     },
     "metadata": {},
     "output_type": "display_data"
    },
    {
     "data": {
      "text/html": [
       "<pre>Read 1280786264 lines. Lines per second: 585265</pre>"
      ],
      "text/plain": [
       "Read 1280786264 lines. Lines per second: 585265"
      ]
     },
     "metadata": {},
     "output_type": "display_data"
    },
    {
     "data": {
      "text/html": [
       "<pre>Read 1286752018 lines. Lines per second: 586132</pre>"
      ],
      "text/plain": [
       "Read 1286752018 lines. Lines per second: 586132"
      ]
     },
     "metadata": {},
     "output_type": "display_data"
    },
    {
     "data": {
      "text/html": [
       "<pre>Read 1287900349 lines. Lines per second: 585270</pre>"
      ],
      "text/plain": [
       "Read 1287900349 lines. Lines per second: 585270"
      ]
     },
     "metadata": {},
     "output_type": "display_data"
    },
    {
     "data": {
      "text/html": [
       "<pre>Read 1292619841 lines. Lines per second: 585936</pre>"
      ],
      "text/plain": [
       "Read 1292619841 lines. Lines per second: 585936"
      ]
     },
     "metadata": {},
     "output_type": "display_data"
    },
    {
     "data": {
      "text/html": [
       "<pre>Read 1298721940 lines. Lines per second: 587064</pre>"
      ],
      "text/plain": [
       "Read 1298721940 lines. Lines per second: 587064"
      ]
     },
     "metadata": {},
     "output_type": "display_data"
    },
    {
     "data": {
      "text/html": [
       "<pre>Read 1301018795 lines. Lines per second: 586117</pre>"
      ],
      "text/plain": [
       "Read 1301018795 lines. Lines per second: 586117"
      ]
     },
     "metadata": {},
     "output_type": "display_data"
    },
    {
     "data": {
      "text/html": [
       "<pre>Read 1306239154 lines. Lines per second: 587012</pre>"
      ],
      "text/plain": [
       "Read 1306239154 lines. Lines per second: 587012"
      ]
     },
     "metadata": {},
     "output_type": "display_data"
    },
    {
     "data": {
      "text/html": [
       "<pre>Read 1312432485 lines. Lines per second: 588156</pre>"
      ],
      "text/plain": [
       "Read 1312432485 lines. Lines per second: 588156"
      ]
     },
     "metadata": {},
     "output_type": "display_data"
    },
    {
     "data": {
      "text/html": [
       "<pre>Read 1314924777 lines. Lines per second: 587446</pre>"
      ],
      "text/plain": [
       "Read 1314924777 lines. Lines per second: 587446"
      ]
     },
     "metadata": {},
     "output_type": "display_data"
    },
    {
     "data": {
      "text/html": [
       "<pre>Read 1319866330 lines. Lines per second: 588289</pre>"
      ],
      "text/plain": [
       "Read 1319866330 lines. Lines per second: 588289"
      ]
     },
     "metadata": {},
     "output_type": "display_data"
    },
    {
     "data": {
      "text/html": [
       "<pre>Read 1325376788 lines. Lines per second: 589250</pre>"
      ],
      "text/plain": [
       "Read 1325376788 lines. Lines per second: 589250"
      ]
     },
     "metadata": {},
     "output_type": "display_data"
    },
    {
     "data": {
      "text/html": [
       "<pre>Read 1327879590 lines. Lines per second: 588007</pre>"
      ],
      "text/plain": [
       "Read 1327879590 lines. Lines per second: 588007"
      ]
     },
     "metadata": {},
     "output_type": "display_data"
    },
    {
     "data": {
      "text/html": [
       "<pre>Read 1331485185 lines. Lines per second: 588320</pre>"
      ],
      "text/plain": [
       "Read 1331485185 lines. Lines per second: 588320"
      ]
     },
     "metadata": {},
     "output_type": "display_data"
    },
    {
     "data": {
      "text/html": [
       "<pre>Read 1337303382 lines. Lines per second: 589346</pre>"
      ],
      "text/plain": [
       "Read 1337303382 lines. Lines per second: 589346"
      ]
     },
     "metadata": {},
     "output_type": "display_data"
    },
    {
     "data": {
      "text/html": [
       "<pre>Read 1340732905 lines. Lines per second: 589300</pre>"
      ],
      "text/plain": [
       "Read 1340732905 lines. Lines per second: 589300"
      ]
     },
     "metadata": {},
     "output_type": "display_data"
    },
    {
     "data": {
      "text/html": [
       "<pre>Read 1345792269 lines. Lines per second: 590007</pre>"
      ],
      "text/plain": [
       "Read 1345792269 lines. Lines per second: 590007"
      ]
     },
     "metadata": {},
     "output_type": "display_data"
    },
    {
     "data": {
      "text/html": [
       "<pre>Read 1351280711 lines. Lines per second: 590887</pre>"
      ],
      "text/plain": [
       "Read 1351280711 lines. Lines per second: 590887"
      ]
     },
     "metadata": {},
     "output_type": "display_data"
    },
    {
     "data": {
      "text/html": [
       "<pre>Read 1353370849 lines. Lines per second: 590082</pre>"
      ],
      "text/plain": [
       "Read 1353370849 lines. Lines per second: 590082"
      ]
     },
     "metadata": {},
     "output_type": "display_data"
    },
    {
     "data": {
      "text/html": [
       "<pre>Read 1358608751 lines. Lines per second: 590829</pre>"
      ],
      "text/plain": [
       "Read 1358608751 lines. Lines per second: 590829"
      ]
     },
     "metadata": {},
     "output_type": "display_data"
    },
    {
     "data": {
      "text/html": [
       "<pre>Read 1364062958 lines. Lines per second: 591741</pre>"
      ],
      "text/plain": [
       "Read 1364062958 lines. Lines per second: 591741"
      ]
     },
     "metadata": {},
     "output_type": "display_data"
    },
    {
     "data": {
      "text/html": [
       "<pre>Read 1367838576 lines. Lines per second: 591259</pre>"
      ],
      "text/plain": [
       "Read 1367838576 lines. Lines per second: 591259"
      ]
     },
     "metadata": {},
     "output_type": "display_data"
    },
    {
     "data": {
      "text/html": [
       "<pre>Read 1373553239 lines. Lines per second: 592164</pre>"
      ],
      "text/plain": [
       "Read 1373553239 lines. Lines per second: 592164"
      ]
     },
     "metadata": {},
     "output_type": "display_data"
    },
    {
     "data": {
      "text/html": [
       "<pre>Read 1377795332 lines. Lines per second: 592644</pre>"
      ],
      "text/plain": [
       "Read 1377795332 lines. Lines per second: 592644"
      ]
     },
     "metadata": {},
     "output_type": "display_data"
    },
    {
     "data": {
      "text/html": [
       "<pre>Read 1380769196 lines. Lines per second: 591648</pre>"
      ],
      "text/plain": [
       "Read 1380769196 lines. Lines per second: 591648"
      ]
     },
     "metadata": {},
     "output_type": "display_data"
    },
    {
     "data": {
      "text/html": [
       "<pre>Read 1385144552 lines. Lines per second: 592265</pre>"
      ],
      "text/plain": [
       "Read 1385144552 lines. Lines per second: 592265"
      ]
     },
     "metadata": {},
     "output_type": "display_data"
    },
    {
     "data": {
      "text/html": [
       "<pre>Read 1390826718 lines. Lines per second: 593260</pre>"
      ],
      "text/plain": [
       "Read 1390826718 lines. Lines per second: 593260"
      ]
     },
     "metadata": {},
     "output_type": "display_data"
    },
    {
     "data": {
      "text/html": [
       "<pre>Read 1393897471 lines. Lines per second: 592675</pre>"
      ],
      "text/plain": [
       "Read 1393897471 lines. Lines per second: 592675"
      ]
     },
     "metadata": {},
     "output_type": "display_data"
    },
    {
     "data": {
      "text/html": [
       "<pre>Read 1399611848 lines. Lines per second: 593607</pre>"
      ],
      "text/plain": [
       "Read 1399611848 lines. Lines per second: 593607"
      ]
     },
     "metadata": {},
     "output_type": "display_data"
    },
    {
     "data": {
      "text/html": [
       "<pre>Read 1406289848 lines. Lines per second: 594771</pre>"
      ],
      "text/plain": [
       "Read 1406289848 lines. Lines per second: 594771"
      ]
     },
     "metadata": {},
     "output_type": "display_data"
    },
    {
     "data": {
      "text/html": [
       "<pre>Read 1408892509 lines. Lines per second: 594066</pre>"
      ],
      "text/plain": [
       "Read 1408892509 lines. Lines per second: 594066"
      ]
     },
     "metadata": {},
     "output_type": "display_data"
    },
    {
     "data": {
      "text/html": [
       "<pre>Read 1414676644 lines. Lines per second: 595157</pre>"
      ],
      "text/plain": [
       "Read 1414676644 lines. Lines per second: 595157"
      ]
     },
     "metadata": {},
     "output_type": "display_data"
    },
    {
     "data": {
      "text/html": [
       "<pre>Read 1420467268 lines. Lines per second: 595886</pre>"
      ],
      "text/plain": [
       "Read 1420467268 lines. Lines per second: 595886"
      ]
     },
     "metadata": {},
     "output_type": "display_data"
    },
    {
     "data": {
      "text/html": [
       "<pre>Read 1423913932 lines. Lines per second: 595454</pre>"
      ],
      "text/plain": [
       "Read 1423913932 lines. Lines per second: 595454"
      ]
     },
     "metadata": {},
     "output_type": "display_data"
    },
    {
     "data": {
      "text/html": [
       "<pre>Read 1429952171 lines. Lines per second: 596529</pre>"
      ],
      "text/plain": [
       "Read 1429952171 lines. Lines per second: 596529"
      ]
     },
     "metadata": {},
     "output_type": "display_data"
    },
    {
     "data": {
      "text/html": [
       "<pre>Read 1433709429 lines. Lines per second: 596839</pre>"
      ],
      "text/plain": [
       "Read 1433709429 lines. Lines per second: 596839"
      ]
     },
     "metadata": {},
     "output_type": "display_data"
    },
    {
     "data": {
      "text/html": [
       "<pre>Read 1437276956 lines. Lines per second: 596441</pre>"
      ],
      "text/plain": [
       "Read 1437276956 lines. Lines per second: 596441"
      ]
     },
     "metadata": {},
     "output_type": "display_data"
    },
    {
     "data": {
      "text/html": [
       "<pre>Read 1443326622 lines. Lines per second: 597468</pre>"
      ],
      "text/plain": [
       "Read 1443326622 lines. Lines per second: 597468"
      ]
     },
     "metadata": {},
     "output_type": "display_data"
    },
    {
     "data": {
      "text/html": [
       "<pre>Unable to parse line \"Michel Strogoff`Unreadable Disclaimer\"</pre>"
      ],
      "text/plain": [
       "Unable to parse line \"Michel Strogoff`Unreadable Disclaimer\""
      ]
     },
     "metadata": {},
     "output_type": "display_data"
    },
    {
     "data": {
      "text/html": [
       "<pre>1 lines failed to parse correctly</pre>"
      ],
      "text/plain": [
       "1 lines failed to parse correctly"
      ]
     },
     "metadata": {},
     "output_type": "display_data"
    },
    {
     "data": {
      "text/html": [
       "<pre>Finished parsing file /home/annajo/Documents/git/tvtropes_scraper/tvtropes/sframe_big.csv</pre>"
      ],
      "text/plain": [
       "Finished parsing file /home/annajo/Documents/git/tvtropes_scraper/tvtropes/sframe_big.csv"
      ]
     },
     "metadata": {},
     "output_type": "display_data"
    },
    {
     "data": {
      "text/html": [
       "<pre>Parsing completed. Parsed 1445756449 lines in 2417.62 secs.</pre>"
      ],
      "text/plain": [
       "Parsing completed. Parsed 1445756449 lines in 2417.62 secs."
      ]
     },
     "metadata": {},
     "output_type": "display_data"
    },
    {
     "name": "stdout",
     "output_type": "stream",
     "text": [
      "------------------------------------------------------\n",
      "Inferred types from first line of file as \n",
      "column_type_hints=[str,str,int]\n",
      "If parsing fails due to incorrect types, you can correct\n",
      "the inferred type list above and pass it to read_csv in\n",
      "the column_type_hints argument\n",
      "------------------------------------------------------\n"
     ]
    }
   ],
   "source": [
    "sframe = graphlab.SFrame.read_csv('sframe_big.csv',delimiter='`')"
   ]
  },
  {
   "cell_type": "code",
   "execution_count": 3,
   "metadata": {
    "collapsed": false
   },
   "outputs": [],
   "source": [
    "data_train, data_test = graphlab.recommender.util.random_split_by_user(sframe, user_id='title', item_id='trope', item_test_proportion=0.2)\n"
   ]
  },
  {
   "cell_type": "code",
   "execution_count": null,
   "metadata": {
    "collapsed": false
   },
   "outputs": [
    {
     "data": {
      "text/html": [
       "<pre>Recsys training: model = ranking_factorization_recommender</pre>"
      ],
      "text/plain": [
       "Recsys training: model = ranking_factorization_recommender"
      ]
     },
     "metadata": {},
     "output_type": "display_data"
    },
    {
     "data": {
      "text/html": [
       "<pre>Preparing data set.</pre>"
      ],
      "text/plain": [
       "Preparing data set."
      ]
     },
     "metadata": {},
     "output_type": "display_data"
    }
   ],
   "source": [
    "model = graphlab.recommender.ranking_factorization_recommender.create(data_train, user_id='title', item_id='trope', target='hasTrope', solver='ials')\n",
    " "
   ]
  },
  {
   "cell_type": "code",
   "execution_count": 18,
   "metadata": {
    "collapsed": false
   },
   "outputs": [
    {
     "name": "stdout",
     "output_type": "stream",
     "text": [
      "\n",
      "Precision and recall summary statistics by cutoff\n",
      "+--------+----------------+----------------+\n",
      "| cutoff | mean_precision |  mean_recall   |\n",
      "+--------+----------------+----------------+\n",
      "|   1    | 0.762917933131 | 0.25025946739  |\n",
      "|   2    | 0.675278622087 | 0.419543504303 |\n",
      "|   3    | 0.589327929753 | 0.522441093599 |\n",
      "|   4    | 0.505572441743 | 0.574844158844 |\n",
      "|   5    | 0.429584599797 | 0.596819775021 |\n",
      "|   6    | 0.367950016886 | 0.606752069452 |\n",
      "|   7    | 0.318425242437 | 0.61023946914  |\n",
      "|   8    | 0.279761904762 | 0.611306716369 |\n",
      "|   9    | 0.248789823258 | 0.611433362773 |\n",
      "|   10   | 0.224012158055 | 0.611686655579 |\n",
      "+--------+----------------+----------------+\n",
      "[10 rows x 3 columns]\n",
      "\n",
      "('\\nOverall RMSE: ', 0.4143374809912129)\n",
      "\n",
      "Per User RMSE (best)\n",
      "+-----------------+-------+-----------------+\n",
      "|      title      | count |       rmse      |\n",
      "+-----------------+-------+-----------------+\n",
      "| Hap And Leonard |   1   | 0.0321689844131 |\n",
      "+-----------------+-------+-----------------+\n",
      "[1 rows x 3 columns]\n",
      "\n",
      "\n",
      "Per User RMSE (worst)\n",
      "+----------------------+-------+---------------+\n",
      "|        title         | count |      rmse     |\n",
      "+----------------------+-------+---------------+\n",
      "| Before I Go To Sleep |   1   | 0.99739741534 |\n",
      "+----------------------+-------+---------------+\n",
      "[1 rows x 3 columns]\n",
      "\n",
      "\n",
      "Per Item RMSE (best)\n",
      "+-----------+-------+-----------------+\n",
      "|   trope   | count |       rmse      |\n",
      "+-----------+-------+-----------------+\n",
      "| Bifauxnen |   1   | 0.0423964262009 |\n",
      "+-----------+-------+-----------------+\n",
      "[1 rows x 3 columns]\n",
      "\n",
      "\n",
      "Per Item RMSE (worst)\n",
      "+--------------+-------+---------------+\n",
      "|    trope     | count |      rmse     |\n",
      "+--------------+-------+---------------+\n",
      "| Nanomachines |   1   | 1.11969092488 |\n",
      "+--------------+-------+---------------+\n",
      "[1 rows x 3 columns]\n",
      "\n"
     ]
    }
   ],
   "source": [
    "eva = model.evaluate(data_test, target='hasTrope')"
   ]
  },
  {
   "cell_type": "code",
   "execution_count": 33,
   "metadata": {
    "collapsed": false
   },
   "outputs": [
    {
     "name": "stdout",
     "output_type": "stream",
     "text": [
      "<class 'graphlab.data_structures.sarray.SArray'>\n",
      "6018\n",
      "<class 'graphlab.data_structures.sarray.SArray'>\n",
      "6018\n"
     ]
    },
    {
     "ename": "ToolkitError",
     "evalue": "For this evaluation metric, the input SArray `predictions` can be of type float only when the number of classes is 2 (i.e binary classification). This dataset has 1 classes.\n",
     "output_type": "error",
     "traceback": [
      "\u001b[1;31m---------------------------------------------------------------------------\u001b[0m",
      "\u001b[1;31mToolkitError\u001b[0m                              Traceback (most recent call last)",
      "\u001b[1;32m<ipython-input-33-396f355b0b8d>\u001b[0m in \u001b[0;36m<module>\u001b[1;34m()\u001b[0m\n\u001b[0;32m      5\u001b[0m \u001b[1;32mprint\u001b[0m \u001b[0mtype\u001b[0m\u001b[1;33m(\u001b[0m\u001b[0mpredict\u001b[0m\u001b[1;33m)\u001b[0m\u001b[1;33m\u001b[0m\u001b[0m\n\u001b[0;32m      6\u001b[0m \u001b[1;32mprint\u001b[0m \u001b[0mpredict\u001b[0m\u001b[1;33m.\u001b[0m\u001b[0msize\u001b[0m\u001b[1;33m(\u001b[0m\u001b[1;33m)\u001b[0m\u001b[1;33m\u001b[0m\u001b[0m\n\u001b[1;32m----> 7\u001b[1;33m \u001b[0mroc\u001b[0m \u001b[1;33m=\u001b[0m \u001b[0mgraphlab\u001b[0m\u001b[1;33m.\u001b[0m\u001b[0mevaluation\u001b[0m\u001b[1;33m.\u001b[0m\u001b[0mroc_curve\u001b[0m\u001b[1;33m(\u001b[0m\u001b[0mtarget\u001b[0m\u001b[1;33m,\u001b[0m \u001b[0mpredict\u001b[0m\u001b[1;33m)\u001b[0m\u001b[1;33m\u001b[0m\u001b[0m\n\u001b[0m",
      "\u001b[1;32mD:\\annajo1138\\Anaconda2\\envs\\dato-env\\lib\\site-packages\\graphlab\\toolkits\\evaluation.pyc\u001b[0m in \u001b[0;36mroc_curve\u001b[1;34m(targets, predictions, average)\u001b[0m\n\u001b[0;32m   1091\u001b[0m             \"binary\": predictions.dtype() in [int, float]}\n\u001b[0;32m   1092\u001b[0m     return _graphlab.extensions._supervised_streaming_evaluator(targets,\n\u001b[1;32m-> 1093\u001b[1;33m                        predictions, \"roc_curve\", opts)\n\u001b[0m\u001b[0;32m   1094\u001b[0m \u001b[1;33m\u001b[0m\u001b[0m\n\u001b[0;32m   1095\u001b[0m \u001b[1;32mdef\u001b[0m \u001b[0mauc\u001b[0m\u001b[1;33m(\u001b[0m\u001b[0mtargets\u001b[0m\u001b[1;33m,\u001b[0m \u001b[0mpredictions\u001b[0m\u001b[1;33m,\u001b[0m \u001b[0maverage\u001b[0m\u001b[1;33m=\u001b[0m\u001b[1;34m'macro'\u001b[0m\u001b[1;33m)\u001b[0m\u001b[1;33m:\u001b[0m\u001b[1;33m\u001b[0m\u001b[0m\n",
      "\u001b[1;32mD:\\annajo1138\\Anaconda2\\envs\\dato-env\\lib\\site-packages\\graphlab\\extensions.pyc\u001b[0m in \u001b[0;36m<lambda>\u001b[1;34m(*args, **kwargs)\u001b[0m\n\u001b[0;32m    166\u001b[0m \u001b[1;33m\u001b[0m\u001b[0m\n\u001b[0;32m    167\u001b[0m \u001b[1;32mdef\u001b[0m \u001b[0m_make_injected_function\u001b[0m\u001b[1;33m(\u001b[0m\u001b[0mfn\u001b[0m\u001b[1;33m,\u001b[0m \u001b[0marguments\u001b[0m\u001b[1;33m)\u001b[0m\u001b[1;33m:\u001b[0m\u001b[1;33m\u001b[0m\u001b[0m\n\u001b[1;32m--> 168\u001b[1;33m     \u001b[1;32mreturn\u001b[0m \u001b[1;32mlambda\u001b[0m \u001b[1;33m*\u001b[0m\u001b[0margs\u001b[0m\u001b[1;33m,\u001b[0m \u001b[1;33m**\u001b[0m\u001b[0mkwargs\u001b[0m\u001b[1;33m:\u001b[0m \u001b[0m_run_toolkit_function\u001b[0m\u001b[1;33m(\u001b[0m\u001b[0mfn\u001b[0m\u001b[1;33m,\u001b[0m \u001b[0marguments\u001b[0m\u001b[1;33m,\u001b[0m \u001b[0margs\u001b[0m\u001b[1;33m,\u001b[0m \u001b[0mkwargs\u001b[0m\u001b[1;33m)\u001b[0m\u001b[1;33m\u001b[0m\u001b[0m\n\u001b[0m\u001b[0;32m    169\u001b[0m \u001b[1;33m\u001b[0m\u001b[0m\n\u001b[0;32m    170\u001b[0m \u001b[1;32mdef\u001b[0m \u001b[0m_class_instance_from_name\u001b[0m\u001b[1;33m(\u001b[0m\u001b[0mclass_name\u001b[0m\u001b[1;33m,\u001b[0m \u001b[1;33m*\u001b[0m\u001b[0marg\u001b[0m\u001b[1;33m,\u001b[0m \u001b[1;33m**\u001b[0m\u001b[0mkwarg\u001b[0m\u001b[1;33m)\u001b[0m\u001b[1;33m:\u001b[0m\u001b[1;33m\u001b[0m\u001b[0m\n",
      "\u001b[1;32mD:\\annajo1138\\Anaconda2\\envs\\dato-env\\lib\\site-packages\\graphlab\\extensions.pyc\u001b[0m in \u001b[0;36m_run_toolkit_function\u001b[1;34m(fnname, arguments, args, kwargs)\u001b[0m\n\u001b[0;32m    155\u001b[0m     \u001b[1;32mif\u001b[0m \u001b[0mret\u001b[0m\u001b[1;33m[\u001b[0m\u001b[1;36m0\u001b[0m\u001b[1;33m]\u001b[0m \u001b[1;33m!=\u001b[0m \u001b[0mTrue\u001b[0m\u001b[1;33m:\u001b[0m\u001b[1;33m\u001b[0m\u001b[0m\n\u001b[0;32m    156\u001b[0m         \u001b[1;32mif\u001b[0m \u001b[0mlen\u001b[0m\u001b[1;33m(\u001b[0m\u001b[0mret\u001b[0m\u001b[1;33m[\u001b[0m\u001b[1;36m1\u001b[0m\u001b[1;33m]\u001b[0m\u001b[1;33m)\u001b[0m \u001b[1;33m>\u001b[0m \u001b[1;36m0\u001b[0m\u001b[1;33m:\u001b[0m\u001b[1;33m\u001b[0m\u001b[0m\n\u001b[1;32m--> 157\u001b[1;33m             \u001b[1;32mraise\u001b[0m \u001b[0m_ToolkitError\u001b[0m\u001b[1;33m(\u001b[0m\u001b[0mret\u001b[0m\u001b[1;33m[\u001b[0m\u001b[1;36m1\u001b[0m\u001b[1;33m]\u001b[0m\u001b[1;33m)\u001b[0m\u001b[1;33m\u001b[0m\u001b[0m\n\u001b[0m\u001b[0;32m    158\u001b[0m         \u001b[1;32melse\u001b[0m\u001b[1;33m:\u001b[0m\u001b[1;33m\u001b[0m\u001b[0m\n\u001b[0;32m    159\u001b[0m             \u001b[1;32mraise\u001b[0m \u001b[0m_ToolkitError\u001b[0m\u001b[1;33m(\u001b[0m\u001b[1;34m\"Toolkit failed with unknown error\"\u001b[0m\u001b[1;33m)\u001b[0m\u001b[1;33m\u001b[0m\u001b[0m\n",
      "\u001b[1;31mToolkitError\u001b[0m: For this evaluation metric, the input SArray `predictions` can be of type float only when the number of classes is 2 (i.e binary classification). This dataset has 1 classes.\n"
     ]
    }
   ],
   "source": [
    "target = data_test['hasTrope']\n",
    "print type(target)\n",
    "print target.size()\n",
    "predict = model.predict(data_test)\n",
    "print type(predict)\n",
    "print predict.size()\n",
    "roc = graphlab.evaluation.roc_curve(target, predict)"
   ]
  },
  {
   "cell_type": "code",
   "execution_count": null,
   "metadata": {
    "collapsed": true
   },
   "outputs": [],
   "source": []
  }
 ],
 "metadata": {
  "kernelspec": {
   "display_name": "Python 2",
   "language": "python",
   "name": "python2"
  },
  "language_info": {
   "codemirror_mode": {
    "name": "ipython",
    "version": 2
   },
   "file_extension": ".py",
   "mimetype": "text/x-python",
   "name": "python",
   "nbconvert_exporter": "python",
   "pygments_lexer": "ipython2",
   "version": "2.7.6"
  }
 },
 "nbformat": 4,
 "nbformat_minor": 0
}
